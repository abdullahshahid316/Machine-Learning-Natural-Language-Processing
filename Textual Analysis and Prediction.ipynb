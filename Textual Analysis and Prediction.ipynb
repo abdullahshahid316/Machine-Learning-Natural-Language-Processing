{
 "cells": [
  {
   "cell_type": "markdown",
   "metadata": {},
   "source": [
    "# Genre Classification of TV Shows\n",
    "\n",
    "**Submission deadline: Friday 26 May, 11:55pm**\n",
    "\n",
    "**Assessment weight: 25% of the total unit assessment.**\n",
    "\n",
    "*Unless a Special Consideration request has been submitted and approved, a 5% penalty (of the total possible mark of the task) will be applied for each day a written report or presentation assessment is not submitted, up until the 7th day (including weekends). After the 7th day, a grade of ‘0’ will be awarded even if the assessment is submitted. The submission time for all uploaded assessments is **11:55 pm**. A 1-hour grace period will be provided to students who experience a technical concern. For any late submission of time-sensitive tasks, such as scheduled tests/exams, performance assessments/presentations, and/or scheduled practical assessments/labs, please apply for [Special Consideration](https://students.mq.edu.au/study/assessment-exams/special-consideration).*\n",
    "\n",
    "In this assignment you will complete tasks for an end-to-end genre classification application. We will train and test the data using the TVmaze data set."
   ]
  },
  {
   "cell_type": "markdown",
   "metadata": {},
   "source": [
    "TVmaze is a free online television information database that provides users with detailed information about TV shows, their episodes, and their schedules. The website was launched in 2005 and has since grown to become one of the most comprehensive TV databases available."
   ]
  },
  {
   "cell_type": "markdown",
   "metadata": {},
   "source": [
    "### Genre"
   ]
  },
  {
   "cell_type": "markdown",
   "metadata": {},
   "source": [
    "To reduce opportunities for copying and cheating, you will given a mostly-unique genre to work with. Add it to the next cell. Email Abid (or ask him when you see him) for your preference; if too many people have chosen that genre, he might ask you to pick again.\n",
    "\n",
    "Possibilities are:\n",
    "\n",
    "- Drama\n",
    "\n",
    "- Comedy\n",
    "\n",
    "- Romance\n",
    "\n",
    "- Crime\n",
    "\n",
    "- Action\n",
    "\n",
    "- Adventure\n",
    "\n",
    "- Anime\n",
    "\n",
    "- Mystery\n",
    "\n",
    "- History\n",
    "\n",
    "- Children\n",
    "\n",
    "- Thriller\n",
    "\n",
    "- Fantasy\n",
    "\n",
    "- Science-Fiction\n",
    "\n",
    "- Family\n",
    "\n",
    "- Food\n",
    "\n",
    "- Music\n",
    "\n",
    "- Travel\n",
    "\n",
    "- Sports\n",
    "\n",
    "- Nature"
   ]
  },
  {
   "cell_type": "code",
   "execution_count": 206,
   "metadata": {},
   "outputs": [],
   "source": [
    "assigned_genre = 'Music'"
   ]
  },
  {
   "cell_type": "markdown",
   "metadata": {},
   "source": [
    "To make sure everyone has unique data (even if you share a genre), several questions will ask you\n",
    "to initialize a random number generator with `random_state_key`. Pick some number that is likely\n",
    "to be unique to you (e.g. the digits from your student number)."
   ]
  },
  {
   "cell_type": "code",
   "execution_count": 207,
   "metadata": {},
   "outputs": [],
   "source": [
    "# Replace 12345 with the digits from your student number, or some other number that is likely to be unique.\n",
    "random_state_key = 45761000"
   ]
  },
  {
   "cell_type": "markdown",
   "metadata": {},
   "source": [
    "### Data"
   ]
  },
  {
   "cell_type": "markdown",
   "metadata": {},
   "source": [
    "You will find a SQLite database (called `tvmaze.sqlite`) on iLearn. This is the data you will work from. Copy it into the same directory where you have put this jupyter notebook.\n",
    "\n",
    "The following cell should create a connection for you."
   ]
  },
  {
   "cell_type": "code",
   "execution_count": 208,
   "metadata": {},
   "outputs": [],
   "source": [
    "import sqlite3\n",
    "\n",
    "# Connect to the SQLite database\n",
    "connection = sqlite3.connect(\"tvmaze.sqlite\")"
   ]
  },
  {
   "cell_type": "markdown",
   "metadata": {},
   "source": [
    "### Character Data\n",
    "\n",
    "In a few places, you will be asked to run queries on the names of characters."
   ]
  },
  {
   "cell_type": "markdown",
   "metadata": {},
   "source": [
    "The following cell creates a dataframe called `characters_df` using this query:\n",
    "\n",
    "`select tvmaze_id, tvmaze_character_id, name from tvmaze_casting join tvmaze_characters using (tvmaze_character_id);`"
   ]
  },
  {
   "cell_type": "code",
   "execution_count": 209,
   "metadata": {},
   "outputs": [],
   "source": [
    "import pandas as pd\n",
    "\n",
    "# Define the SQL query\n",
    "sql_query = \"\"\"\n",
    "select tvmaze_id, tvmaze_character_id, name\n",
    "from tvmaze_casting join tvmaze_characters\n",
    "using (tvmaze_character_id);\n",
    "\"\"\"\n",
    "\n",
    "# Read the data into a pandas dataframe\n",
    "characters_df = pd.read_sql_query(sql_query, connection)"
   ]
  },
  {
   "cell_type": "markdown",
   "metadata": {},
   "source": [
    "If you aren't familiar with pandas, and just want to use raw `numpy`, you can use the `characters` array\n",
    "created in the next cell."
   ]
  },
  {
   "cell_type": "code",
   "execution_count": 210,
   "metadata": {},
   "outputs": [
    {
     "data": {
      "text/plain": [
       "((209697, 3), dtype('O'))"
      ]
     },
     "execution_count": 210,
     "metadata": {},
     "output_type": "execute_result"
    }
   ],
   "source": [
    "characters = characters_df.to_numpy()\n",
    "characters.shape, characters.dtype"
   ]
  },
  {
   "cell_type": "markdown",
   "metadata": {},
   "source": [
    "And to make it a little easier, here are the character names extracted as a list."
   ]
  },
  {
   "cell_type": "code",
   "execution_count": 211,
   "metadata": {},
   "outputs": [
    {
     "data": {
      "text/plain": [
       "['You Yuan Le',\n",
       " 'Lin An An',\n",
       " 'Ren Hao',\n",
       " 'Ye Luo Sha',\n",
       " 'Sung Yi Gyum',\n",
       " 'Hong Da In',\n",
       " 'Sung Yi Bum',\n",
       " 'Park Chun Sam',\n",
       " 'Mio Meguro',\n",
       " 'Iwa Yotsuya',\n",
       " 'Ryo Sakai',\n",
       " 'Utako Warabe',\n",
       " 'Miyuki Yamanaka',\n",
       " 'Sara Yanagi',\n",
       " 'Yuzuru Minaoka',\n",
       " 'Hibito Harashima',\n",
       " 'Hiyo Numata',\n",
       " 'Sgt. Bill Parkin (Sarge)',\n",
       " 'PC Eric Warren (Token)',\n",
       " 'PC John Barrett (Thug)',\n",
       " 'PC Gill Copson (Dippy)',\n",
       " 'PC Roger Tennant (Flub)',\n",
       " 'PC Lionel Adams (Oz)',\n",
       " 'PC Susan Li (Bruce)',\n",
       " 'PC Ian Macrae (Jock)',\n",
       " 'PC Wayne Cheetham (Bog)',\n",
       " 'Supt. Hallsworth',\n",
       " 'DI Overton',\n",
       " 'DCI Chivers',\n",
       " 'PC Goole',\n",
       " 'DC Stoppard',\n",
       " 'Tracy Collins',\n",
       " 'Linda Eide',\n",
       " 'Robert Kingsford',\n",
       " 'Dr. Christine Fletcher',\n",
       " 'Dr. Mike Gregson',\n",
       " 'Dr. Louise Macken',\n",
       " 'Dr. Stuart Phelan',\n",
       " 'Dr. David Scobie',\n",
       " 'Cathy Jordan',\n",
       " 'Judy Enshaw',\n",
       " 'Terry Harker',\n",
       " 'Yvonne Silver',\n",
       " 'Dr. Andrew Argyle',\n",
       " 'Dr. Kate Brady',\n",
       " 'Samantha Docherty',\n",
       " 'Jack Turner',\n",
       " 'Dr. Raz Amin',\n",
       " 'Dr. Ruth Cole',\n",
       " 'Dr. Danny Barton',\n",
       " 'Poppy Jonston',\n",
       " 'Dr. Jeffrey Drummond',\n",
       " 'Dr. Saskia Walker',\n",
       " 'Dr. James Da Costa',\n",
       " 'Group Captain James Christie',\n",
       " 'Wing Commander Peter Tyson',\n",
       " 'Squadron Leader Mike Fairchild',\n",
       " 'Squadron Leader Dave Grayson',\n",
       " 'Group Captain Harry Hall',\n",
       " 'Squadron Leader Clive Adams',\n",
       " 'Flight Lieutenant Dr. Susan Young',\n",
       " 'George Booker',\n",
       " 'Alan Martin',\n",
       " 'Jogger Cummins',\n",
       " 'Sandra Henley',\n",
       " 'Blake Hayward',\n",
       " 'George Hayward',\n",
       " 'Mark Warrington',\n",
       " 'Keir Hayward',\n",
       " 'Rosalynde Warrington',\n",
       " 'John Warrington',\n",
       " 'Beth Warrington',\n",
       " 'Richard Warrington',\n",
       " 'Helen Hayward',\n",
       " 'Martha Blaze',\n",
       " 'Jack Blaze',\n",
       " 'Paula Brandt',\n",
       " 'Jean Hayward',\n",
       " 'Owen Hayward',\n",
       " 'Constance',\n",
       " 'Sophia',\n",
       " 'Mr. Critchlow',\n",
       " 'Maria Insull',\n",
       " 'Gerald Scales',\n",
       " 'Samual Povey',\n",
       " 'Maggie',\n",
       " 'Mrs. Baines',\n",
       " 'Elinor Dashwood',\n",
       " 'Marianne Dashwood',\n",
       " 'Edward Ferrars',\n",
       " 'Colonel Brandon',\n",
       " 'Mrs. Dashwood',\n",
       " 'Sir John Middleton',\n",
       " 'John Willoughby',\n",
       " 'Claire McCarron',\n",
       " 'Fred McCarron',\n",
       " 'Willie Pipal',\n",
       " 'Jeffrey',\n",
       " 'David Barber',\n",
       " 'Tom Duffy',\n",
       " 'Colonel Patrick Ansell',\n",
       " 'Nugent',\n",
       " 'Alice',\n",
       " 'Ирина',\n",
       " 'Геннадий',\n",
       " 'Наталья Ивановна',\n",
       " 'Host',\n",
       " 'Dr. Sado',\n",
       " 'Temptress',\n",
       " 'Foxie LaDay',\n",
       " 'Presenter',\n",
       " 'Nick Rowan',\n",
       " 'Larry Summers / Pulaski',\n",
       " 'Kate Smith / Briggsy',\n",
       " 'Paula Wilson',\n",
       " 'Jerome Summers',\n",
       " 'Sung Dong Il',\n",
       " 'Kim Hee Won',\n",
       " 'Yeo Jin Goo',\n",
       " 'Choi Woo Shik',\n",
       " 'Jung Yoo Mi',\n",
       " 'Yudi',\n",
       " 'Jahan',\n",
       " 'Shiva',\n",
       " 'Chen Zi Tong',\n",
       " 'Fang Zhi Sheng',\n",
       " 'Fang Qing',\n",
       " 'Chen Tian Lin',\n",
       " 'Fu Rong',\n",
       " 'Xu Jin',\n",
       " 'Xu Ping',\n",
       " 'Wu Bai Qi',\n",
       " 'Fu Xuan',\n",
       " 'Frank Kane',\n",
       " 'Danny Kane',\n",
       " 'Polish Joe',\n",
       " 'Carol Kane',\n",
       " \"Jonjo O'Brady\",\n",
       " 'Ronnie Blythe',\n",
       " 'Host',\n",
       " 'Frank Scully',\n",
       " 'Fiona Neave',\n",
       " 'Sylvia Harper',\n",
       " 'Donald Harper',\n",
       " 'Oscar Wilde',\n",
       " 'Lord Alfred Douglas',\n",
       " 'Alfred Taylor',\n",
       " 'Fred Atkins',\n",
       " 'Robert Ross',\n",
       " 'George Bernard Shaw',\n",
       " 'Charlie Parker',\n",
       " 'Constance Wilde',\n",
       " 'The Marquis of Queensberry',\n",
       " 'Narrator',\n",
       " 'J. Robert Oppenheimer',\n",
       " 'Narrator',\n",
       " 'Даня Крастер',\n",
       " 'Host',\n",
       " 'Panelist',\n",
       " 'Panelist',\n",
       " 'Panelist',\n",
       " 'Panelist',\n",
       " 'Fran Price',\n",
       " 'Ведущий',\n",
       " 'Ведущий',\n",
       " 'Иван Лукашин',\n",
       " 'Евдоким Подрезов',\n",
       " 'Анфиса Петровна Минина',\n",
       " 'Лизавета Пряслина',\n",
       " 'Варвара Иняхина',\n",
       " 'Евсей Мошкин',\n",
       " 'Михаил Пряслин',\n",
       " 'Егорша',\n",
       " 'Simon Carter',\n",
       " 'Emile Englander',\n",
       " 'Mr. Sanderson',\n",
       " 'Strawson',\n",
       " 'Martha Carter',\n",
       " 'Lord Godmanchester',\n",
       " 'Sir Robert Falcon',\n",
       " 'Michael Gaffikin',\n",
       " 'Fiona Patterson',\n",
       " 'Dr Symonds',\n",
       " 'Inspector Inskip',\n",
       " 'Colonel Howard',\n",
       " 'Kim So Yong',\n",
       " 'King Chul Jong',\n",
       " 'Queen Sun Won',\n",
       " 'Kim Jwa Geun',\n",
       " 'Jo Hee Jin',\n",
       " 'Host',\n",
       " 'Host',\n",
       " 'Настя Семёнова',\n",
       " 'Сабина Сабурова',\n",
       " 'Игорь Бельский',\n",
       " 'Олег Николаевич Веселовски',\n",
       " 'Лариса',\n",
       " 'Сергей Сабуров',\n",
       " 'Влад',\n",
       " 'Lu Fang Ning',\n",
       " 'Ling Rui',\n",
       " 'Fang Yi Yao',\n",
       " 'Cai Si Yu',\n",
       " 'Николай Ставрогин',\n",
       " 'Петр Верховенский',\n",
       " 'Павел Дмитриевич Горемыкин',\n",
       " 'Иван Львович Флибустьеров',\n",
       " 'Иван Шатов',\n",
       " 'Алексей Кириллов',\n",
       " 'Даша Шатова',\n",
       " 'Лиза Тушина',\n",
       " 'Варвара Петровна Ставрогина',\n",
       " 'Степан Трофимович Верховенский',\n",
       " 'Игнат Лебядкин',\n",
       " 'Марья Тимофеевна Лебядкина',\n",
       " 'Андрей Антонович',\n",
       " 'Юлия Михайловна',\n",
       " 'Мария Игнатьевна Шатова',\n",
       " 'Федька-каторжный',\n",
       " 'Тихон',\n",
       " 'Иосиф Виссарионович Сталин',\n",
       " 'Клавдия Плавникова',\n",
       " 'Валентина Седова',\n",
       " 'Анатолий Седов',\n",
       " 'Константин Семенов',\n",
       " 'Ромодановский',\n",
       " 'Молотов',\n",
       " 'Фаина Георгиевна Раневская',\n",
       " 'Павел Шпрингфельд',\n",
       " 'Presenter',\n",
       " 'Presenter',\n",
       " 'Presenter',\n",
       " 'TBA',\n",
       " 'TBA',\n",
       " 'Juan',\n",
       " 'Claudia',\n",
       " 'Toni',\n",
       " 'María',\n",
       " 'Lidia',\n",
       " 'Fermín',\n",
       " 'Pedro',\n",
       " 'José',\n",
       " 'Yuri Honjō',\n",
       " 'Mayuko Nise',\n",
       " 'Kuon Shinzaki',\n",
       " 'Rika Honjō',\n",
       " 'Sniper Mask',\n",
       " 'Will Scott',\n",
       " 'Claire',\n",
       " 'Robert',\n",
       " 'Host',\n",
       " 'Host',\n",
       " 'Ezekiel Williams',\n",
       " 'Benjamin Bradley',\n",
       " 'Narrator',\n",
       " 'Mark',\n",
       " 'Kit',\n",
       " 'Мария Гаврилова',\n",
       " 'Андрей Краснов',\n",
       " 'Корнелия Кравчик (лже-Ванда)',\n",
       " 'Станислав Бонн',\n",
       " 'Игорь Валерьевич Любецкий',\n",
       " 'Ольга Василевская',\n",
       " 'Алексей',\n",
       " 'Betty Hackforth',\n",
       " 'Sue Godfrey',\n",
       " 'David Lewis',\n",
       " 'Paula Sheardon',\n",
       " 'Barry Goodson',\n",
       " 'Vicky Thomas',\n",
       " 'Jenny Swanne',\n",
       " 'Gabriella Benson',\n",
       " 'Martin Fisher',\n",
       " 'Eddie Johnson',\n",
       " 'Trevor Coughlan',\n",
       " 'Keith Nicholl',\n",
       " 'Brian Rimmer',\n",
       " 'Simon Benson',\n",
       " 'Anthony Coombs',\n",
       " 'Артём Ткаченко',\n",
       " 'Маргарита Сметанина',\n",
       " 'Виктор Батников',\n",
       " 'Neville Lytton',\n",
       " 'Dolly',\n",
       " 'David Edding',\n",
       " 'Jenny',\n",
       " 'Henry Field',\n",
       " 'The Lawyer',\n",
       " 'The Editor',\n",
       " 'Laura Grey',\n",
       " 'Harold',\n",
       " 'Han Bi Soo',\n",
       " 'Oh Joo In',\n",
       " 'Ban Ha Ni (37 yrs)',\n",
       " 'Han Yoo Hyun',\n",
       " 'Ahn So Nee',\n",
       " 'Ban Ha Ni (17 yrs)',\n",
       " 'Татьяна Козлова',\n",
       " 'Николай',\n",
       " 'Полина',\n",
       " 'Васька Макаров',\n",
       " 'отец Николая',\n",
       " 'Завьялов',\n",
       " 'Лидия Махова',\n",
       " 'Марфа Мещерякова',\n",
       " 'Катя',\n",
       " 'Аксинья Козлова',\n",
       " 'Антонина',\n",
       " 'Мохов',\n",
       " 'Наташка Мещерякова',\n",
       " 'Павел',\n",
       " 'Никита Беркутов',\n",
       " 'Никита Беркутов в детстве',\n",
       " 'Беркутов',\n",
       " 'Юра Беркутов',\n",
       " 'Эмма Беркутова',\n",
       " 'Han Joon Hyuk',\n",
       " 'Lee Ji Soo',\n",
       " 'Ki Sun Kyum',\n",
       " 'Oh Mi Joo',\n",
       " 'Seo Dan Ah',\n",
       " 'Lee Young Hwa',\n",
       " 'So Moon',\n",
       " 'Jang Chul Jung',\n",
       " 'Do Ha Na',\n",
       " 'Choo Mae Ok',\n",
       " 'Choi Jang Mool',\n",
       " 'Dan Turner',\n",
       " 'Melody Pendras',\n",
       " 'Lord Louis Mountbatten',\n",
       " 'Lady Edwina Mountbatten',\n",
       " 'Nehru',\n",
       " 'Gandhi',\n",
       " 'Ismay',\n",
       " 'Princess Victoria',\n",
       " 'Лёня Сокольничий',\n",
       " 'Жанна Юрьевна',\n",
       " 'Зинаида Борисовна Гунькина, завкафедры социологии',\n",
       " 'Арсений Гудков',\n",
       " 'Настя Светлова',\n",
       " 'Алёна',\n",
       " 'Даша',\n",
       " 'Паша',\n",
       " 'Участковый',\n",
       " 'Игорь',\n",
       " 'Санёк',\n",
       " 'Света',\n",
       " 'Гоша',\n",
       " 'Василий',\n",
       " 'Ректор',\n",
       " 'Галина Сергеевна',\n",
       " 'Ирина Петровна',\n",
       " 'Сокольничий, отец Лёни',\n",
       " 'Сергей',\n",
       " 'Edward Brett',\n",
       " 'Nicki',\n",
       " 'Mary Brett',\n",
       " 'Simon Brett',\n",
       " 'Liz Weldon',\n",
       " 'Penny Johnson',\n",
       " 'Captain R. F. Scott',\n",
       " 'Roald Amundsen',\n",
       " 'Fridtjof Nansen',\n",
       " 'Dr. \"Uncle Bill\" Wilson',\n",
       " 'David Castle',\n",
       " 'Ronald King',\n",
       " 'Miss Willmott',\n",
       " 'Mr. Hodinett',\n",
       " 'Ярослав Костров',\n",
       " 'Марина',\n",
       " 'TBD',\n",
       " 'TBD',\n",
       " 'TBD',\n",
       " 'John Pitman',\n",
       " 'Fang Duo Mi',\n",
       " 'You Tian Le',\n",
       " 'Bai Si Li',\n",
       " 'TBD',\n",
       " 'TBD',\n",
       " 'TBD',\n",
       " 'TBD',\n",
       " 'TBD',\n",
       " 'TBD',\n",
       " 'TBD',\n",
       " 'TBD',\n",
       " 'TBD',\n",
       " 'Настя Ларина',\n",
       " 'Ирина Сазонова',\n",
       " 'Клавдия Ивановна',\n",
       " 'Алексей Ларин',\n",
       " 'Владимир Михайлович Сазонов',\n",
       " 'Михаил Сазонов',\n",
       " 'Ольга Олеговна Белова, юрист',\n",
       " 'Максим Данилов, детектив, помощник Волкова',\n",
       " 'Владислав Саввин, хакер, муж Татьяны',\n",
       " 'Кирилл Юрьевич, травматолог, бойфренд Ольги',\n",
       " 'Валерия',\n",
       " 'Смирнов',\n",
       " 'Аглая',\n",
       " 'Чесноков',\n",
       " 'Takami Asakura',\n",
       " 'Taichi Satoya',\n",
       " 'Kenji Kudo',\n",
       " 'Nanako Mishima',\n",
       " 'Nobuhiro Higashira',\n",
       " 'Ritsuko Higashira',\n",
       " 'Kunihiko Hyodo',\n",
       " 'Xie Fan Yu',\n",
       " 'Yue Ran',\n",
       " 'Host',\n",
       " 'Host',\n",
       " 'Host',\n",
       " 'Host',\n",
       " 'Host',\n",
       " 'Host',\n",
       " 'Long Ao Yi',\n",
       " 'Li Qing Liu',\n",
       " 'Li Zhao',\n",
       " 'Yan Bin',\n",
       " 'Du Xiao Xian',\n",
       " 'Xiao Qin',\n",
       " 'Yuan Qian',\n",
       " 'Qin Shen',\n",
       " 'Татьяна, следователь',\n",
       " 'Алина Эдуардовна Калашникова',\n",
       " 'Павел, опер',\n",
       " 'Денис Мезенцев, жених Алины, рекламщик',\n",
       " 'Эдуард Калашников, ресторатор, отец Алины',\n",
       " 'подполковник, начальник полиции Погорска',\n",
       " 'Илья Конников, компаньон Калашникова, отец Константина',\n",
       " 'TBD',\n",
       " 'TBD',\n",
       " 'TBD',\n",
       " 'Ольга Аркадьевна Барковская, математик',\n",
       " 'Светлана Васильевна Карташова, следователь',\n",
       " 'Георгий Евгеньевич Иванов',\n",
       " 'Денис Петрович Денисов',\n",
       " 'Павел Кравцов, студент',\n",
       " 'Ася, подруга Ольги',\n",
       " 'Вадим',\n",
       " 'Юля Ростовцева, студентка',\n",
       " 'Женя Багирова',\n",
       " 'Жан Жильбер (Леопольд Треппер)',\n",
       " 'Карл Гиринг',\n",
       " 'Гроссфогель',\n",
       " 'Кент',\n",
       " 'Макаров',\n",
       " 'Гилель Кац',\n",
       " 'Элен Сорель',\n",
       " 'Маргарет',\n",
       " 'Жульет',\n",
       " 'Фортнер',\n",
       " 'Берг',\n",
       " 'интендант',\n",
       " 'Элен в наши дни',\n",
       " 'Кент в наши дни',\n",
       " 'Im Joo Kyung',\n",
       " 'Lee Soo Ho',\n",
       " 'Han Seo Joon',\n",
       " 'Pearl Gatdula',\n",
       " 'Karleen Gregorio',\n",
       " 'Alex Aguirre',\n",
       " 'Fonzy Hermoso',\n",
       " 'Presenter',\n",
       " 'Princess Pyung Kang',\n",
       " 'On Dal',\n",
       " 'Go Gun',\n",
       " 'Hae Mo Yong',\n",
       " 'Kang Min Ki',\n",
       " 'No Hye Ran',\n",
       " 'Park Sang Hyun',\n",
       " 'Lee Yoon Chul',\n",
       " 'Lee Ji Won',\n",
       " 'Madona',\n",
       " 'Joseph',\n",
       " 'Dany',\n",
       " 'Savier',\n",
       " 'Ejay',\n",
       " 'Olivia Walker',\n",
       " 'Ольга Косач',\n",
       " 'Host',\n",
       " 'Mark',\n",
       " 'Broden',\n",
       " 'Zach',\n",
       " 'Рената Мартин',\n",
       " 'Владимир Орлов, следователь, отец Лики',\n",
       " 'Георгий, продюсер Ренаты, муж Джулии',\n",
       " 'Джулия, мать Ренаты, жена Георгия',\n",
       " 'Олег, режиссёр, бойфренд Ренаты',\n",
       " 'Никита Чернов, музыкант, экс-муж Ренаты',\n",
       " 'Настя',\n",
       " 'Huang Xin',\n",
       " 'Liang Xue',\n",
       " 'Gu Jun',\n",
       " 'Su Ming',\n",
       " 'Yang Fang',\n",
       " 'Su Xiao Xi',\n",
       " 'Cheng Tian',\n",
       " 'Wei Jun Xuan',\n",
       " 'Xu Xiu Ping',\n",
       " 'Olivia Attwood',\n",
       " 'Bradley Dack',\n",
       " 'Baek Ho Rang',\n",
       " 'Go Eun Taek',\n",
       " 'Do Woo Jae',\n",
       " 'Ji So Hyun',\n",
       " 'Kang Jae Yi',\n",
       " 'Kim Yoo Shin',\n",
       " 'Eti Alon',\n",
       " 'Ofer Maximov',\n",
       " 'Israel',\n",
       " 'Shlomi Alon',\n",
       " 'Настя',\n",
       " 'Валя',\n",
       " 'Яся',\n",
       " 'Леха',\n",
       " 'Макар',\n",
       " 'Даша',\n",
       " 'Cozybory',\n",
       " 'Jetybory',\n",
       " 'Totobory',\n",
       " 'Lukybory',\n",
       " 'Host',\n",
       " 'Presenter',\n",
       " 'Presenter',\n",
       " 'Ma Xiao Xiao',\n",
       " 'Ou Xiao Jian',\n",
       " 'Yi Dong Dong',\n",
       " 'Кира Суворова',\n",
       " 'Марк Белевич',\n",
       " 'Глеб',\n",
       " 'Лилия Стоцкая',\n",
       " 'Борис Суворов',\n",
       " 'TBD',\n",
       " 'TBD',\n",
       " 'TBD',\n",
       " 'TBD',\n",
       " 'TBD',\n",
       " 'TBD',\n",
       " 'TBD',\n",
       " 'Вера',\n",
       " 'Валентин',\n",
       " 'Светлана',\n",
       " 'Николай',\n",
       " 'Надежда',\n",
       " 'Anna',\n",
       " 'TBA',\n",
       " 'Willow Ufgood',\n",
       " 'майор Долматов',\n",
       " 'Юра, водитель такси',\n",
       " 'Оля, журналистка',\n",
       " 'Олег, военный по контракту',\n",
       " 'Алена, врач',\n",
       " 'Осмоловская, подполковник ГРУ',\n",
       " 'Ruth Gregory',\n",
       " 'Clive Gregory',\n",
       " 'Martin Gregory',\n",
       " 'Nell Gregory',\n",
       " 'Harry Brown',\n",
       " 'Davidson',\n",
       " 'Billy Downes',\n",
       " 'Bannen',\n",
       " 'Col. George Frost',\n",
       " 'Insp. Howard Rennie',\n",
       " 'Ross Kennedy',\n",
       " 'Jack Seymour',\n",
       " 'Hilary Bowen',\n",
       " 'Kevin Nash',\n",
       " 'Gill Ridgeley',\n",
       " 'Presenter',\n",
       " 'Frederick Forsyth',\n",
       " 'Major Hugh Gallagher',\n",
       " 'Colonel Hugh Gwillim',\n",
       " 'Stephen \"Hibou\" Lovell',\n",
       " 'George \"Choucas\" Macklin',\n",
       " 'Solange \"Chardonneret\" Rohr',\n",
       " 'Sergeant \"Grive\" Cameron',\n",
       " 'Paul \"Ferdy\" Lamboit',\n",
       " 'Ellen \"Merle\"',\n",
       " 'Lt. Col. Tim Squires',\n",
       " 'Captain Nigel \"Mesange\" Macauley',\n",
       " 'Fanny',\n",
       " 'Perry',\n",
       " 'Madge',\n",
       " 'Anthony',\n",
       " 'Patricia',\n",
       " 'Tom Harris',\n",
       " 'Joe Veal',\n",
       " 'поручик',\n",
       " 'незнакомка',\n",
       " 'Николай Александрович Гульбе-Левицкий (Кока)',\n",
       " 'Татьяна',\n",
       " 'фокусник',\n",
       " 'Егорий',\n",
       " 'фотограф',\n",
       " 'есаул',\n",
       " 'ротмистр',\n",
       " 'юнкер-портупей',\n",
       " 'Георгий Сергеевич',\n",
       " 'Розалия Землячка',\n",
       " 'Бела Кун',\n",
       " 'морской офицер',\n",
       " 'полковник',\n",
       " 'Laia',\n",
       " 'Salva',\n",
       " 'Diego',\n",
       " 'Úbeda',\n",
       " 'Álex',\n",
       " 'Bermejo',\n",
       " 'Rubén',\n",
       " 'Аля',\n",
       " 'Виктор',\n",
       " 'Юля',\n",
       " 'Антон',\n",
       " 'отец Юли',\n",
       " 'мать Юли',\n",
       " 'Кристина',\n",
       " 'Дима',\n",
       " 'Ника',\n",
       " 'Владик',\n",
       " 'Сергей',\n",
       " 'Светлана',\n",
       " 'Кувыркин',\n",
       " 'Jett',\n",
       " 'Sophita',\n",
       " 'Matome',\n",
       " 'Mysterious',\n",
       " 'Pokke',\n",
       " 'Lady',\n",
       " 'Tekito',\n",
       " 'Chuui',\n",
       " 'Neccho',\n",
       " 'Mukuchi',\n",
       " 'Dahlia Rodriguez-De Veyra',\n",
       " 'Tarsila Zamora',\n",
       " 'Rico De Veyra',\n",
       " 'Daisy De Veyra',\n",
       " 'Christina De Veyra',\n",
       " 'Queen of the Mechanoids',\n",
       " 'The Chief Archivian',\n",
       " 'Mechanoid 2150',\n",
       " 'The Daleks',\n",
       " 'R-41',\n",
       " \"Dr. Thomas 'Tommy' Ramsey\",\n",
       " 'Detective Inspector Brook',\n",
       " 'Det Chief Insp Nick Lewis',\n",
       " 'Phil Strong',\n",
       " 'Kate Burton',\n",
       " 'Sue Maxwell',\n",
       " 'George Drummond',\n",
       " 'Mary Drummond',\n",
       " 'Charles Drummond',\n",
       " 'Susan Pusey',\n",
       " 'Meni',\n",
       " 'Marco',\n",
       " 'Jacky Alush',\n",
       " 'Nimrod Caspi',\n",
       " 'Shandori',\n",
       " 'Tamir',\n",
       " 'Dafna',\n",
       " 'Катя',\n",
       " 'Алексей',\n",
       " 'Антон',\n",
       " 'Семён',\n",
       " 'Соня',\n",
       " 'Лора',\n",
       " 'Стас Пригожин',\n",
       " 'Денис Лебедев',\n",
       " 'Анастасия Петровна Будницкая, технолог',\n",
       " 'Валентин Николаевич, муж Лили',\n",
       " 'Лиля, жена Валентина',\n",
       " 'TBD',\n",
       " 'Анна',\n",
       " 'Андрей',\n",
       " 'Марина',\n",
       " 'Key Kalunsod',\n",
       " 'Chen Chavez',\n",
       " 'Mads Burnell',\n",
       " 'Carola Häggkvist',\n",
       " 'Eva Wahlström',\n",
       " 'Alexander Gustafsson',\n",
       " 'Niklas Ekstedt',\n",
       " 'Niklas Ekstedt',\n",
       " 'Nina Kennedy',\n",
       " 'Detective Inspector Gamble',\n",
       " 'Detective Sergeant Vicky Hicks',\n",
       " 'Preesha Srinivasan',\n",
       " 'Rudraksh Khurana',\n",
       " 'Asha',\n",
       " 'Aakarsh Chaudhry',\n",
       " 'Janvi Chaudhry',\n",
       " 'Saptroopa',\n",
       " 'Mayura Dubey Shukla',\n",
       " 'Omkar Shukla',\n",
       " 'Host',\n",
       " 'Su Wen Qian',\n",
       " 'Chi Tie Cheng',\n",
       " 'Qin Zi Shu',\n",
       " 'Ou Yang Xiang Ling',\n",
       " 'Dan Leng',\n",
       " 'Presenter',\n",
       " 'Presenter',\n",
       " 'Presenter',\n",
       " 'Sabrina Kothari',\n",
       " 'Aliya Aditya Kothari',\n",
       " 'Aditya Veer Kothari',\n",
       " 'Jeroen van Koningsbrugge',\n",
       " 'Gazala Baig',\n",
       " 'Saraswati Nautiyal',\n",
       " 'Dr. Chahat Baig',\n",
       " 'Godambhari Vyas',\n",
       " 'Neelkanth Vyas',\n",
       " 'Naveli Vyas',\n",
       " 'Madhavanand Vyas',\n",
       " 'Jamunaprasad Vyas',\n",
       " 'Alekh Nautiyal',\n",
       " 'Presenter',\n",
       " 'Presenter',\n",
       " 'Mike Finnegan',\n",
       " 'David Newbern',\n",
       " 'Mike Cotten',\n",
       " 'Gabriel',\n",
       " 'Louise',\n",
       " 'Park Shi Young',\n",
       " 'Cha Soo Jung',\n",
       " 'Park Je Jin',\n",
       " 'Host',\n",
       " 'Various Roles',\n",
       " 'Various Roles',\n",
       " 'Various Roles',\n",
       " 'Kim Jae Ha',\n",
       " 'Lee Hyun',\n",
       " 'Ahn Ji Young',\n",
       " 'Yoon Min Hyuk',\n",
       " 'Megan Roberts',\n",
       " 'Connie',\n",
       " 'Jamieson',\n",
       " 'Hector',\n",
       " 'Nesta',\n",
       " 'Dev',\n",
       " 'Arnie',\n",
       " 'Jo Harding',\n",
       " 'Sam',\n",
       " 'Rob Harding',\n",
       " 'Harry Caines',\n",
       " 'Tom Gibbons',\n",
       " 'Charles Thieron',\n",
       " 'Charles Endell Esq.',\n",
       " 'Hamish McIntyre Jr',\n",
       " 'Alastair Vint',\n",
       " 'Det Sgt Dickson',\n",
       " 'Dixie',\n",
       " 'Gloria Estefan',\n",
       " 'Lili Estefan',\n",
       " 'Emily Estefan',\n",
       " 'Simran Ahuja',\n",
       " 'Raj Chadda',\n",
       " 'Rahul Pandit',\n",
       " 'Andy',\n",
       " 'Debu',\n",
       " 'Sanjana',\n",
       " 'Андрей',\n",
       " 'Нина',\n",
       " 'Борис',\n",
       " 'Зоя',\n",
       " 'Илья',\n",
       " 'Edward Capstick',\n",
       " 'Madge Capstick',\n",
       " 'Henry Capstick',\n",
       " 'Jonty Capstick',\n",
       " 'Timothy Harger',\n",
       " 'Sarah Harger',\n",
       " 'Tony Capstick',\n",
       " 'Kiyan',\n",
       " 'Kashti',\n",
       " 'Programleder',\n",
       " 'Paneldommer',\n",
       " 'Paneldommer',\n",
       " 'Paneldommer',\n",
       " 'Shen Jin',\n",
       " 'Chu Xiu Ming',\n",
       " 'Chu Xiu Yuan',\n",
       " 'Rou Rou',\n",
       " 'Su Nian Feng / Zhuo Yi Feng',\n",
       " 'Su Mu Yun',\n",
       " 'Le Di Yin',\n",
       " 'Liu Zi Hui',\n",
       " 'Qin Yao',\n",
       " 'Ou Yang Yu',\n",
       " 'Ou Yang Qing Xue',\n",
       " 'Tony Blair',\n",
       " 'Charles Burton',\n",
       " 'Monica Burton',\n",
       " 'Ray Mason',\n",
       " 'Kim Hayward',\n",
       " 'Janet Blair',\n",
       " 'Lucas Hellier',\n",
       " 'Samantha Hellier',\n",
       " 'Annika Newman',\n",
       " 'Benjamin',\n",
       " 'Jimson',\n",
       " 'Taskmaster',\n",
       " 'Taskmaster Assistant',\n",
       " 'Simon Bognor',\n",
       " 'Monica',\n",
       " 'Parkinson',\n",
       " 'Lingard',\n",
       " 'Margaret Kelly',\n",
       " 'Helen',\n",
       " 'Marcel Leibovici',\n",
       " 'Paul Derval',\n",
       " 'Aunt Mary',\n",
       " \"Michael 'Beau' Geste\",\n",
       " 'Digby Geste',\n",
       " 'John Geste',\n",
       " 'Narrator',\n",
       " 'Peter Vickery',\n",
       " 'Anna Golan / Anna Wynant',\n",
       " 'Lynn Hart',\n",
       " 'Dennis Bedlam',\n",
       " 'Jonquil Vickery / Jonquil Harmer',\n",
       " 'Mark Golan',\n",
       " 'Eric Harmer',\n",
       " 'Annika Sellberg',\n",
       " 'Pete Daniels',\n",
       " 'Anna Tellwright',\n",
       " 'Ephraim Tellwright',\n",
       " 'Willie Price',\n",
       " 'Henry Mynors',\n",
       " 'Sarah Vodrey',\n",
       " 'Mrs Sutton',\n",
       " 'Titus Price',\n",
       " 'Mr Sutton',\n",
       " 'Presenter',\n",
       " 'Presenter',\n",
       " 'Presenter',\n",
       " 'Davina McCall',\n",
       " 'Emma Willis',\n",
       " 'George Lamb',\n",
       " 'Idgie Threadgoode',\n",
       " 'Presenter',\n",
       " 'Presenter',\n",
       " 'Audra Crowther',\n",
       " 'Vincent Crowther',\n",
       " 'Miles Sutherland',\n",
       " 'Christina Crowther',\n",
       " 'Jane Sedgewick',\n",
       " 'Gwen Thornton',\n",
       " 'Eliza Crowther',\n",
       " 'Laurette Crowther',\n",
       " 'Presenter',\n",
       " 'Judi Love',\n",
       " 'Jack Ruskin',\n",
       " 'Peter Witney',\n",
       " 'Jennie Shaw',\n",
       " 'Narrator',\n",
       " 'Fanny Hooper',\n",
       " 'Harry Somerford',\n",
       " 'Lord Manderstoke',\n",
       " 'Lucy Beckett',\n",
       " 'Clive Seymour',\n",
       " 'Kimberly Finkle',\n",
       " 'Bela Malhotra',\n",
       " 'Leighton Murray',\n",
       " 'Whitney Chase',\n",
       " 'Phil',\n",
       " 'Stef',\n",
       " 'Pat',\n",
       " 'Franck',\n",
       " 'Luna',\n",
       " 'Bloody School Girl',\n",
       " 'Owner',\n",
       " 'Nathalie',\n",
       " 'Denibar',\n",
       " 'Sgt. Duncan Bonney',\n",
       " 'June Bonney',\n",
       " 'PC Rudy Whiteside',\n",
       " 'Lucky Whiteside',\n",
       " 'PC Brian Rainford',\n",
       " 'Fran Rainford',\n",
       " 'Sadly Stan Potter',\n",
       " 'Alice White',\n",
       " 'Dan Somers',\n",
       " 'Luther Adams',\n",
       " 'Jane Garth',\n",
       " 'Alan Cromer',\n",
       " 'Sarah Preston',\n",
       " 'Ray Cromer',\n",
       " 'Maggie Cromer',\n",
       " 'Hugo Preston',\n",
       " 'Alex Preston',\n",
       " 'Hannah Preston',\n",
       " 'Bill Cromer',\n",
       " 'Lieutenant John Feeley',\n",
       " 'Private Alan James',\n",
       " 'Lieutenant Neil Loughrey',\n",
       " 'Adam',\n",
       " 'Zachary',\n",
       " 'Godbold',\n",
       " 'Beatrice',\n",
       " 'Clare',\n",
       " 'Wolfgang Mathias',\n",
       " 'Nathalie',\n",
       " 'Karim',\n",
       " 'Barry Cruz',\n",
       " 'Mando',\n",
       " 'Presenter',\n",
       " 'Presenter',\n",
       " 'Presenter',\n",
       " 'Tom Howarth',\n",
       " 'Lois Howarth',\n",
       " 'Matt Lomas',\n",
       " 'Presenter',\n",
       " 'Ben Glazier',\n",
       " 'Maggie Perowne',\n",
       " 'Lord Holloway',\n",
       " 'Nick Roper',\n",
       " 'Camilla Mounsey',\n",
       " 'Keith Shrimsley',\n",
       " 'Lucy Starr',\n",
       " 'Lady Holloway',\n",
       " 'Michael Mitcham',\n",
       " 'Anne Travers',\n",
       " 'Andrew Pearce',\n",
       " 'Elaine Chong',\n",
       " 'Leslie Titmuss',\n",
       " 'Jenny Sidonia',\n",
       " 'Hector Bolitho Jones',\n",
       " 'Ken Cracken',\n",
       " 'Joyce Timberlake',\n",
       " 'Dot Curdle',\n",
       " 'Sue Bramble',\n",
       " 'Virginia Beazley',\n",
       " 'DS Gavin Douglas',\n",
       " 'DS Paul Herbert',\n",
       " 'Billy Hodge',\n",
       " 'Doreen Hodge',\n",
       " 'Rosie Douglas',\n",
       " 'Jean Herbert',\n",
       " 'Gisele',\n",
       " 'Martin',\n",
       " 'Arthur',\n",
       " 'Queen Elisa',\n",
       " 'Romuald the Reindeer',\n",
       " 'Connie Blackheart',\n",
       " 'Narrator',\n",
       " \"Admiral Dennis De'Ath\",\n",
       " 'Pip',\n",
       " 'Adrian',\n",
       " 'Alan',\n",
       " 'Carol',\n",
       " 'Sue',\n",
       " 'Steve',\n",
       " 'Aja',\n",
       " 'Yiğit Gürel',\n",
       " 'Asya Yılmaz',\n",
       " 'Seth Bogart',\n",
       " 'Stanley Katz',\n",
       " 'Rosie Bennett',\n",
       " 'Stanley Duke',\n",
       " 'Dr. Trish Collings',\n",
       " 'Nowell Hutchinson',\n",
       " 'Susan Duke',\n",
       " 'Lindsey Lucas',\n",
       " 'Dr. Cliff Wainwright',\n",
       " 'Rufus Hilton',\n",
       " 'Stephen Duke',\n",
       " 'Harry Coote',\n",
       " 'Bert Hutchinson',\n",
       " 'Taff Wyndham',\n",
       " 'Dr. Alfred Nash',\n",
       " 'Полина Гончаренко',\n",
       " 'Павел Калинович Любарский',\n",
       " 'Михаил',\n",
       " 'Василь',\n",
       " 'Алексей Гончаренко',\n",
       " 'Шпак',\n",
       " 'Василий Степанович Кочубей, отец Веры',\n",
       " 'Саенко',\n",
       " 'Бурун',\n",
       " 'Аскер',\n",
       " 'Катерина Павловна, повариха',\n",
       " 'Наталка, участница собрания',\n",
       " 'друг Михаила',\n",
       " 'Филипповна, мать Михаила',\n",
       " 'учетчик',\n",
       " 'Марьяна',\n",
       " 'жена Кочубея, мать Веры',\n",
       " 'колхозник',\n",
       " 'Орлик, бригадир',\n",
       " 'кум',\n",
       " 'Задорожная',\n",
       " 'Грач',\n",
       " 'член бюро',\n",
       " 'участник собрания',\n",
       " 'Евгения Петровна Марченко',\n",
       " 'Николай Васильевич Рожков',\n",
       " 'Степан Степанович Ямщиков',\n",
       " 'Пётр Терентьевич Кривцов',\n",
       " 'Иван Трофимович, председатель исполкома',\n",
       " ...]"
      ]
     },
     "execution_count": 211,
     "metadata": {},
     "output_type": "execute_result"
    }
   ],
   "source": [
    "character_names = list(characters[:,2])"
   ]
  },
  {
   "cell_type": "markdown",
   "metadata": {},
   "source": [
    "### Show data"
   ]
  },
  {
   "cell_type": "markdown",
   "metadata": {},
   "source": [
    "You might want to start with 200 shows so that your program runs faster, and then later on replace it with\n",
    "500, or 1000 if you need more data."
   ]
  },
  {
   "cell_type": "code",
   "execution_count": 7,
   "metadata": {},
   "outputs": [],
   "source": [
    "data_size = 1000"
   ]
  },
  {
   "cell_type": "markdown",
   "metadata": {},
   "source": [
    "The following cells create:\n",
    "\n",
    "- A dataframe called `show_df` (if you are familiar with pandas)\n",
    "\n",
    "- A numpy array called `shownames` (the names of the shows to work with)\n",
    "\n",
    "- A numpy array called `descriptions` (which has the show descriptions)\n",
    "\n",
    "- A numpy array called `in_genre` (whether this show is in your target genre or not)\n",
    "\n",
    "- A numpy array called `tvmaze_ids` (the ID numbers of the shows)."
   ]
  },
  {
   "cell_type": "code",
   "execution_count": 8,
   "metadata": {},
   "outputs": [
    {
     "data": {
      "text/html": [
       "<div>\n",
       "<style scoped>\n",
       "    .dataframe tbody tr th:only-of-type {\n",
       "        vertical-align: middle;\n",
       "    }\n",
       "\n",
       "    .dataframe tbody tr th {\n",
       "        vertical-align: top;\n",
       "    }\n",
       "\n",
       "    .dataframe thead th {\n",
       "        text-align: right;\n",
       "    }\n",
       "</style>\n",
       "<table border=\"1\" class=\"dataframe\">\n",
       "  <thead>\n",
       "    <tr style=\"text-align: right;\">\n",
       "      <th></th>\n",
       "      <th>tvmaze_id</th>\n",
       "      <th>showname</th>\n",
       "      <th>description</th>\n",
       "      <th>in_genre</th>\n",
       "    </tr>\n",
       "  </thead>\n",
       "  <tbody>\n",
       "    <tr>\n",
       "      <th>45700</th>\n",
       "      <td>55905</td>\n",
       "      <td>The Watcher</td>\n",
       "      <td>&lt;p&gt;Based on a true story, &lt;b&gt;The Watcher&lt;/b&gt; f...</td>\n",
       "      <td>0.0</td>\n",
       "    </tr>\n",
       "    <tr>\n",
       "      <th>37641</th>\n",
       "      <td>45586</td>\n",
       "      <td>Housekishou Richard-shi no Nazo Kantei</td>\n",
       "      <td>&lt;p&gt;The novel follows Richard Ranashinha Dvorpi...</td>\n",
       "      <td>0.0</td>\n",
       "    </tr>\n",
       "    <tr>\n",
       "      <th>9696</th>\n",
       "      <td>11071</td>\n",
       "      <td>Dear Green Place</td>\n",
       "      <td>&lt;p&gt;Sitcom focusing on the antics of two Glaswe...</td>\n",
       "      <td>0.0</td>\n",
       "    </tr>\n",
       "    <tr>\n",
       "      <th>16149</th>\n",
       "      <td>19112</td>\n",
       "      <td>A History of Ancient Britain</td>\n",
       "      <td>&lt;p&gt;Neil Oliver tells the epic story of how Bri...</td>\n",
       "      <td>0.0</td>\n",
       "    </tr>\n",
       "    <tr>\n",
       "      <th>19488</th>\n",
       "      <td>23252</td>\n",
       "      <td>5 News Update</td>\n",
       "      <td>&lt;p&gt;The latest headlines, sport and weather.&lt;/p&gt;</td>\n",
       "      <td>0.0</td>\n",
       "    </tr>\n",
       "    <tr>\n",
       "      <th>...</th>\n",
       "      <td>...</td>\n",
       "      <td>...</td>\n",
       "      <td>...</td>\n",
       "      <td>...</td>\n",
       "    </tr>\n",
       "    <tr>\n",
       "      <th>440</th>\n",
       "      <td>17962</td>\n",
       "      <td>Sounds of the Sixties: Reversions</td>\n",
       "      <td>&lt;p&gt;Series featuring rock, pop and R&amp;amp;B perf...</td>\n",
       "      <td>1.0</td>\n",
       "    </tr>\n",
       "    <tr>\n",
       "      <th>524</th>\n",
       "      <td>21746</td>\n",
       "      <td>The Gong Show</td>\n",
       "      <td>&lt;p&gt;&lt;b&gt;The Gong Show&lt;/b&gt; is an updated version ...</td>\n",
       "      <td>1.0</td>\n",
       "    </tr>\n",
       "    <tr>\n",
       "      <th>1575</th>\n",
       "      <td>67410</td>\n",
       "      <td>People's Choice Country Awards</td>\n",
       "      <td>&lt;p&gt;The only award show for the people and by t...</td>\n",
       "      <td>1.0</td>\n",
       "    </tr>\n",
       "    <tr>\n",
       "      <th>755</th>\n",
       "      <td>30104</td>\n",
       "      <td>Lotta på Liseberg</td>\n",
       "      <td>&lt;p&gt;Lotta at Liseberg is a live music show with...</td>\n",
       "      <td>1.0</td>\n",
       "    </tr>\n",
       "    <tr>\n",
       "      <th>461</th>\n",
       "      <td>18879</td>\n",
       "      <td>¡Qué noche!</td>\n",
       "      <td>&lt;p&gt;&lt;b&gt;¡Qué Noche! Con Angélica y Raúl&lt;/b&gt; is a...</td>\n",
       "      <td>1.0</td>\n",
       "    </tr>\n",
       "  </tbody>\n",
       "</table>\n",
       "<p>2000 rows × 4 columns</p>\n",
       "</div>"
      ],
      "text/plain": [
       "       tvmaze_id                                showname  \\\n",
       "45700      55905                             The Watcher   \n",
       "37641      45586  Housekishou Richard-shi no Nazo Kantei   \n",
       "9696       11071                        Dear Green Place   \n",
       "16149      19112            A History of Ancient Britain   \n",
       "19488      23252                           5 News Update   \n",
       "...          ...                                     ...   \n",
       "440        17962       Sounds of the Sixties: Reversions   \n",
       "524        21746                           The Gong Show   \n",
       "1575       67410          People's Choice Country Awards   \n",
       "755        30104                       Lotta på Liseberg   \n",
       "461        18879                             ¡Qué noche!   \n",
       "\n",
       "                                             description  in_genre  \n",
       "45700  <p>Based on a true story, <b>The Watcher</b> f...       0.0  \n",
       "37641  <p>The novel follows Richard Ranashinha Dvorpi...       0.0  \n",
       "9696   <p>Sitcom focusing on the antics of two Glaswe...       0.0  \n",
       "16149  <p>Neil Oliver tells the epic story of how Bri...       0.0  \n",
       "19488    <p>The latest headlines, sport and weather.</p>       0.0  \n",
       "...                                                  ...       ...  \n",
       "440    <p>Series featuring rock, pop and R&amp;B perf...       1.0  \n",
       "524    <p><b>The Gong Show</b> is an updated version ...       1.0  \n",
       "1575   <p>The only award show for the people and by t...       1.0  \n",
       "755    <p>Lotta at Liseberg is a live music show with...       1.0  \n",
       "461    <p><b>¡Qué Noche! Con Angélica y Raúl</b> is a...       1.0  \n",
       "\n",
       "[2000 rows x 4 columns]"
      ]
     },
     "execution_count": 8,
     "metadata": {},
     "output_type": "execute_result"
    }
   ],
   "source": [
    "out_of_genre_sql_query = f\"\"\"\n",
    "select tvmaze_id, showname, description, 0.0 as in_genre from tvmaze\n",
    "where tvmaze_id not in (select tvmaze_id from tvmaze_genre where genre = '{assigned_genre}')\n",
    "      and description is not null\n",
    "      and length(description) > 10\"\"\"\n",
    "\n",
    "in_genre_sql_query = f\"\"\"select tvmaze_id, showname, description, 1.0 as in_genre from tvmaze\n",
    "where tvmaze_id in (select tvmaze_id from tvmaze_genre where genre = '{assigned_genre}')\n",
    "      and description is not null\n",
    "      and length(description) > 10\n",
    "\"\"\"\n",
    "\n",
    "out_of_genre_df = pd.read_sql(out_of_genre_sql_query, connection)\n",
    "in_genre_df = pd.read_sql(in_genre_sql_query, connection)\n",
    "show_df = pd.concat([out_of_genre_df.sample(data_size, random_state=random_state_key), \n",
    "                     in_genre_df.sample(data_size, random_state=random_state_key)])\n",
    "show_df"
   ]
  },
  {
   "cell_type": "code",
   "execution_count": 9,
   "metadata": {},
   "outputs": [],
   "source": [
    "show_ids = show_df.tvmaze_id.to_numpy()\n",
    "descriptions = show_df.description.to_numpy()\n",
    "in_genre = show_df.in_genre.to_numpy()\n",
    "shownames = show_df.showname.to_numpy()"
   ]
  },
  {
   "cell_type": "markdown",
   "metadata": {},
   "source": [
    "## Task 1 (3 marks) - Regular expressions"
   ]
  },
  {
   "cell_type": "markdown",
   "metadata": {},
   "source": [
    "### 1.1 (1 mark)\n",
    "\n",
    "We all know that James Bond gets his gadgets from Q. Are there other shows where a character has a \n",
    "one-letter name?\n",
    "\n",
    "Write a regular expression that matches a single upper-case letter, and use it to check against\n",
    "the characters in `character_names`.\n",
    "\n",
    "How many shows do you find?"
   ]
  },
  {
   "cell_type": "code",
   "execution_count": 212,
   "metadata": {},
   "outputs": [
    {
     "name": "stdout",
     "output_type": "stream",
     "text": [
      "The number of unique shows with single-letter name characters: 42\n",
      "        tvmaze_id  tvmaze_character_id name\n",
      "1788        51049               791436    R\n",
      "2222        50950               790192    C\n",
      "8327        49015               761244    N\n",
      "11749       47370               724469    Q\n",
      "14850       45569               685521    P\n",
      "19376       42950               642128    Q\n",
      "33359       36703               529998    K\n",
      "37178       34886               507052    M\n",
      "44836       31447               460243    K\n",
      "49099       29194               434886    K\n",
      "49462       29081               433306    L\n",
      "60041       25087               378829    S\n",
      "60420       24959               378618    N\n",
      "72665       20377               318013    Y\n",
      "81857       17534               289772    G\n",
      "87304       15892               272551    A\n",
      "91103       14590               297808    N\n",
      "109851       8398               202984    Z\n",
      "110291       8284               284786    K\n",
      "110731       8211               201548    X\n",
      "116947       6830               297816    N\n",
      "122468       5830               665824    D\n",
      "128587       4712               176813    L\n",
      "128588       4712               176814    N\n",
      "129083       4630               176225    D\n",
      "143327       1932               112112    A\n",
      "160072         40                 8489    L\n",
      "165238      52965               829314    A\n",
      "165272      52942               828888    M\n",
      "165651      53010               830120    Q\n",
      "170633      42193               857903    Q\n",
      "170985      44163               858862    G\n",
      "170986      44163               858863    B\n",
      "170987      44163               858864    T\n",
      "176311      17534               289772    G\n",
      "177636      41667               905669    V\n",
      "180295      57749               922754    L\n",
      "181290      58876               930179    K\n",
      "181778       6160               932669    Z\n",
      "185982      60122               960488    Q\n",
      "189947      61562               980819    X\n",
      "195277      61958              1012946    P\n",
      "195526      62860              1014511    X\n",
      "195527      62860              1014512    Q\n",
      "195530      62410              1015609    Q\n",
      "201607      62370              1057772    Q\n",
      "201683      53306              1057183    D\n"
     ]
    }
   ],
   "source": [
    "import re\n",
    "import pandas as pd\n",
    "\n",
    "pattern = r\"^[A-Z]$\"\n",
    "r = re.compile(pattern)\n",
    "\n",
    "# Find the single letter names that match the regex expression from the characters list\n",
    "single_char_names = list(filter(r.match, characters_df['name']))\n",
    "\n",
    "# Find the shows with the single letter character names\n",
    "single_char_names_shows = characters_df[characters_df['name'].isin(single_char_names)]\n",
    "\n",
    "# Count the number of unique shows\n",
    "num_shows = single_char_names_shows['tvmaze_id'].nunique()\n",
    "\n",
    "print(\"The number of unique shows with single-letter name characters:\", num_shows)\n",
    "print(single_char_names_shows)\n",
    "\n"
   ]
  },
  {
   "cell_type": "markdown",
   "metadata": {},
   "source": [
    "### 1.2 (1 mark)\n",
    "\n",
    "Write a regular expression that finds medical doctors. A medical doctor might be \"Dr.\" or \"Doctor\" or \"Dr\".\n",
    "\n",
    "Watch out for:\n",
    "\n",
    "- JUDr. Augusta (who has a PhD in law)\n",
    "\n",
    "- MUDr. Sova (who is a doctor)\n",
    "\n",
    "- The Doctor (a science fiction character, who isn't a medical doctor)\n",
    "\n",
    "- The Sixth Doctor (the same science fiction character, there are fifteen of them)\n",
    "\n",
    "Assume that Dr. Death and Dr. Teeth are doctors."
   ]
  },
  {
   "cell_type": "code",
   "execution_count": 215,
   "metadata": {},
   "outputs": [
    {
     "name": "stdout",
     "output_type": "stream",
     "text": [
      "34         Dr. Christine\n",
      "35              Dr. Mike\n",
      "36            Dr. Louise\n",
      "37            Dr. Stuart\n",
      "38             Dr. David\n",
      "               ...      \n",
      "209445    Dr. Phosphorus\n",
      "209479          Dr. Josh\n",
      "209480         Dr. Carol\n",
      "209636        Dr. Farrah\n",
      "209674          Dr. Gina\n",
      "Length: 2064, dtype: object\n",
      "Total Doctors 2064\n"
     ]
    }
   ],
   "source": [
    "pattern = r\"\\b(Dr\\.|Dr|Doctor)\\s+([A-Z][a-z]+)\\b(?<!JUDr)(?<!MUDr)\"\n",
    "# Define the regular expression pattern to match medical doctor names.\n",
    "# The pattern matches variations of \"Dr.\", \"Dr\", or \"Doctor\" followed by a space and a name.\n",
    "# The negative lookbehinds, (?<!JUDr) and (?<!MUDr), exclude cases where \"JUDr\" or \"MUDr\" precedes the doctor name.\n",
    "\n",
    "doctor_names = characters_df['name'].str.extract(pattern)\n",
    "# Extract the doctor names from the 'name' column of the characters DataFrame using the regular expression pattern.\n",
    "\n",
    "md_names = doctor_names.dropna()[0] + ' ' + doctor_names.dropna()[1]\n",
    "# Combine the extracted doctor titles and names to form the full medical doctor names.\n",
    "# dropna() removes any rows with missing values, and [0] and [1] select the columns containing the doctor titles and names.\n",
    "\n",
    "print(md_names)\n",
    "print(\"Total Doctors\",len(md_names))\n",
    "# Print the full medical doctor names.\n"
   ]
  },
  {
   "cell_type": "markdown",
   "metadata": {},
   "source": [
    "### 1.3 (1 mark)\n",
    "\n",
    "Write a regular expression to find Cyrillic alphabet character names."
   ]
  },
  {
   "cell_type": "code",
   "execution_count": 216,
   "metadata": {
    "scrolled": true
   },
   "outputs": [
    {
     "data": {
      "text/plain": [
       "103                  Ирина\n",
       "104               Геннадий\n",
       "105       Наталья Ивановна\n",
       "156           Даня Крастер\n",
       "163                Ведущий\n",
       "                ...       \n",
       "209130           Член жюри\n",
       "209131             Ведущая\n",
       "209257             Ведущий\n",
       "209258             Ведущий\n",
       "209673             Ведущий\n",
       "Name: name, Length: 23228, dtype: object"
      ]
     },
     "execution_count": 216,
     "metadata": {},
     "output_type": "execute_result"
    }
   ],
   "source": [
    "pattern = r'[\\u0400-\\u04FF]+'\n",
    "# Define the regular expression pattern to match character names with Cyrillic letters.\n",
    "# The pattern represents the Unicode code point range for Cyrillic characters.\n",
    "\n",
    "cyrillic_names = characters_df[characters_df['name'].str.contains(pattern)].name\n",
    "# Filter the 'name' column of the characters_df DataFrame to find the character names that contain Cyrillic letters.\n",
    "# The filter uses the regular expression pattern and returns the 'name' column.\n",
    "\n",
    "cyrillic_names\n",
    "# Display the character names with Cyrillic letters.\n"
   ]
  },
  {
   "cell_type": "markdown",
   "metadata": {},
   "source": [
    "## Task 2 (5 marks) - lexico-semantic preparation for a classifier\n",
    "\n",
    "For this task only, consider the output of `nltk.word_tokenize()` to be \n",
    "what we mean by a \"word\". Be case insensitive (i.e. lowercase all\n",
    "texts before processing)."
   ]
  },
  {
   "cell_type": "markdown",
   "metadata": {},
   "source": [
    "### Task 2.1 (2 marks)\n",
    "\n",
    "Calculate:\n",
    "\n",
    "- two measures of the corpus size: the total number of words used in all descriptions, and the total number of TV shows\n",
    "\n",
    "- the total number of distinct words in the descriptions (the vocabulary size)\n",
    "\n",
    "- the average number of words in each description (i.e. the average document length)\n",
    "\n",
    "- the average appearance count of each word (the hit ratio for search)\n",
    "\n",
    "- the coefficients of Herdan's Law\n",
    "\n",
    "Make a log-log plot to confirm that the data follows Herdan's Law. "
   ]
  },
  {
   "cell_type": "code",
   "execution_count": 217,
   "metadata": {},
   "outputs": [
    {
     "name": "stdout",
     "output_type": "stream",
     "text": [
      "Total number of tv shows:  2000\n"
     ]
    }
   ],
   "source": [
    "import nltk\n",
    "from nltk.tokenize import word_tokenize\n",
    "import numpy as np\n",
    "import matplotlib.pyplot as plt\n",
    "from sklearn.linear_model import LinearRegression\n",
    "\n",
    "# Total Number of TV Shows\n",
    "total_shows = show_df['tvmaze_id'].nunique()\n",
    "print(\"Total number of tv shows: \", total_shows)"
   ]
  },
  {
   "cell_type": "code",
   "execution_count": 218,
   "metadata": {},
   "outputs": [
    {
     "name": "stdout",
     "output_type": "stream",
     "text": [
      "Corpus size: 500 shows, 36192 words\n",
      "Corpus size: 1000 shows, 74068 words\n",
      "Corpus size: 1500 shows, 113455 words\n",
      "Corpus size: 2000 shows, 151381 words\n"
     ]
    }
   ],
   "source": [
    "# Dictionary Used\n",
    "variable_corpus_data = {}\n",
    "\n",
    "# Insert keys into dict for every 500 increments until it reaches total number of tv shows\n",
    "\n",
    "for i in range(500, total_shows + 1, 500):\n",
    "    variable_corpus_data[i] = {}\n",
    "\n",
    "# Iterate over different corpus sizes\n",
    "for doc_size in variable_corpus_data.keys():\n",
    "    corpus_words = []\n",
    "    show_count = show_df.shape[0]\n",
    "\n",
    "    # Sample a subset of TV show descriptions\n",
    "    subset_df = show_df.sample(doc_size, random_state=random_state_key)\n",
    "\n",
    "    # Tokenize and collect words from the descriptions\n",
    "    subset_df['description'].str.lower().apply(nltk.word_tokenize).apply(corpus_words.extend)\n",
    "\n",
    "    # Store the corpus words in variable_corpus_data\n",
    "    variable_corpus_data[doc_size]['corpus'] = corpus_words\n",
    "    \n",
    "for key in variable_corpus_data.keys():\n",
    "    print(f\"Corpus size: {key} shows, {len(variable_corpus_data[key]['corpus'])} words\")\n"
   ]
  },
  {
   "cell_type": "code",
   "execution_count": 219,
   "metadata": {},
   "outputs": [
    {
     "name": "stdout",
     "output_type": "stream",
     "text": [
      "Corpus size: 2000 shows, 151381 words\n"
     ]
    }
   ],
   "source": [
    "  print(f\"Corpus size: {total_shows} shows, {len(variable_corpus_data[total_shows]['corpus'])} words\")"
   ]
  },
  {
   "cell_type": "code",
   "execution_count": 33,
   "metadata": {},
   "outputs": [
    {
     "name": "stdout",
     "output_type": "stream",
     "text": [
      "Corpus size: 500 shows, 36192 words\n",
      "Corpus size: 500 shows\n",
      "\tVocabulary size: 6779\n",
      "\tAverage number of words per description: 72.384\n",
      "\tHit Ratio 5.338840536952353\n",
      "\n",
      "Corpus size: 1000 shows, 74068 words\n",
      "Corpus size: 1000 shows\n",
      "\tVocabulary size: 10811\n",
      "\tAverage number of words per description: 74.068\n",
      "\tHit Ratio 6.851170104523171\n",
      "\n",
      "Corpus size: 1500 shows, 113455 words\n",
      "Corpus size: 1500 shows\n",
      "\tVocabulary size: 14028\n",
      "\tAverage number of words per description: 75.63666666666667\n",
      "\tHit Ratio 8.087753065297976\n",
      "\n",
      "Corpus size: 2000 shows, 151381 words\n",
      "Corpus size: 2000 shows\n",
      "\tVocabulary size: 16757\n",
      "\tAverage number of words per description: 75.6905\n",
      "\tHit Ratio 9.033896282150742\n",
      "\n"
     ]
    }
   ],
   "source": [
    "# Iterate over different corpus sizes\n",
    "for key in variable_corpus_data.keys():\n",
    "    print(f\"Corpus size: {key} shows, {len(variable_corpus_data[key]['corpus'])} words\")\n",
    "\n",
    "    current_corpus = variable_corpus_data[key]['corpus']\n",
    "    vocabulary_size = set(current_corpus)\n",
    "    variable_corpus_data[key]['vocabulary_size'] = vocabulary_size\n",
    "\n",
    "    print(f'Corpus size: {key} shows')\n",
    "    print(f'\\tVocabulary size: {len(vocabulary_size)}')  # Unique words\n",
    "    print(f'\\tAverage number of words per description: {len(current_corpus) / key}')\n",
    "    print(f'\\tHit Ratio {len(current_corpus) / len(vocabulary_size)}')\n",
    "    print()\n",
    "\n",
    "    average_appearance = {}\n",
    "\n",
    "    for word in vocabulary_size:\n",
    "        # Calculate the average appearance count for each word\n",
    "        average_appearance[word] = (current_corpus.count(word) / len(vocabulary_size)) * key\n",
    "\n",
    "    # Store the average appearance count in variable_corpus_data\n",
    "    average_appearance = pd.Series(average_appearance)\n",
    "    variable_corpus_data[key]['average_appearance'] = average_appearance\n"
   ]
  },
  {
   "cell_type": "code",
   "execution_count": 42,
   "metadata": {},
   "outputs": [
    {
     "name": "stdout",
     "output_type": "stream",
     "text": [
      "k = 5.4122565393231525\n",
      "beta = 0.6792076835380089\n"
     ]
    },
    {
     "data": {
      "image/png": "[encoded data removed]",
      "text/plain": [
       "<Figure size 432x288 with 2 Axes>"
      ]
     },
     "metadata": {
      "needs_background": "light"
     },
     "output_type": "display_data"
    }
   ],
   "source": [
    "import math\n",
    "import pandas as pd\n",
    "import numpy as np\n",
    "import matplotlib.pyplot as plt\n",
    "\n",
    "# Create the list of all words from descriptions\n",
    "words_desc = []\n",
    "for description in show_df['description']:\n",
    "    description = description.lower()\n",
    "    words = word_tokenize(description)\n",
    "    words_desc.extend(words)\n",
    "\n",
    "# Initialize variables\n",
    "vocab_so_far = set()\n",
    "vocab_sizes = []\n",
    "word_counts = []\n",
    "log_word_counts = []\n",
    "log_vocab_sizes = []\n",
    "\n",
    "# Calculate vocabulary sizes, word counts, and their logarithmic values\n",
    "for i, word in enumerate(words_desc):\n",
    "    vocab_so_far.update([word])\n",
    "    vocab_sizes.append(len(vocab_so_far))\n",
    "    word_counts.append(i + 1)\n",
    "    log_word_counts.append(math.log10(i + 1))\n",
    "    log_vocab_sizes.append(math.log10(len(vocab_so_far)))\n",
    "\n",
    "# Create pandas Series for data\n",
    "herdans_data = pd.Series(data=vocab_sizes, index=word_counts)\n",
    "log_data = pd.Series(data=log_vocab_sizes, index=log_word_counts)\n",
    "\n",
    "# Fit a linear model to estimate the coefficients\n",
    "beta, log_k = np.polyfit(log_word_counts, log_vocab_sizes, 1)\n",
    "k = 10 ** log_k\n",
    "\n",
    "# Print the values of k and beta\n",
    "print(\"k =\", k)\n",
    "print(\"beta =\", beta)\n",
    "\n",
    "# Plot log-log graph\n",
    "fig, axes = plt.subplots(nrows=2)\n",
    "herdans_data.plot(ax=axes[0], title=\"Herdan's Law\")\n",
    "log_data.plot(ax=axes[1], title=\"Log-Log Plot\")\n",
    "fig.tight_layout()\n",
    "fig.savefig('herdans.png')\n"
   ]
  },
  {
   "cell_type": "markdown",
   "metadata": {},
   "source": [
    "## Analysis\n",
    "A beta value of around 0.7 suggests that there are relatively fewer word repetitions occurring in the descriptions. This indicates that the authors of the descriptions tend to be concise and provide to-the-point information. The log-log curve and Herdan's Law curve are consistent with the expected formulae.\n",
    "\n",
    "As the number of words increases, the vocabulary size also tends to increase, assuming all other parameters remain unchanged. This aligns with our expectations, as a larger corpus typically leads to a broader range of unique words.\n",
    "\n",
    "The log-log curve shows a linear relationship between the logarithm of word count and the logarithm of vocabulary size, indicating a power-law relationship. On the other hand, Herdan's Law curve demonstrates the curvature expected from the power function.\n",
    "\n",
    "Overall, these observations support the theoretical expectations derived from the model's formulae and provide insights into the characteristics of the descriptions in relation to word repetitions, vocabulary size, and the relationship between word count and vocabulary size."
   ]
  },
  {
   "cell_type": "markdown",
   "metadata": {},
   "source": [
    "### 2.2 (1 mark)\n",
    "\n",
    "Calculate the current ratio of distinct vocabulary items to documents, and compare it\n",
    "to theoretical prediction from the formula:\n",
    "\n",
    "$$\n",
    "    \\frac{C}{V} = \\frac{ N^{1 - \\beta}}{k L}\n",
    "$$\n",
    "\n",
    "Where\n",
    "\n",
    "- $C$ is the number of *documents* in the corpus.\n",
    "- $L$ is the average length of a document in the corpus\n",
    "- $V$ is the number of distinct vocabulary items\n",
    "- $N$ the number of words in the corpus\n",
    "- $k$ and $beta$ are the values you derived in the previous exercise."
   ]
  },
  {
   "cell_type": "code",
   "execution_count": 43,
   "metadata": {},
   "outputs": [
    {
     "name": "stdout",
     "output_type": "stream",
     "text": [
      "Corpus size: 500 shows\n",
      "\tC/V ratio: 0.0737571913261543\n",
      "\tHerdan's Law ratio: 0.07401963474054858\n",
      "\n",
      "Corpus size: 1000 shows\n",
      "\tC/V ratio: 0.09249838127832763\n",
      "\tHerdan's Law ratio: 0.09101879770738162\n",
      "\n",
      "Corpus size: 1500 shows\n",
      "\tC/V ratio: 0.10692899914456801\n",
      "\tHerdan's Law ratio: 0.10219692532366857\n",
      "\n",
      "Corpus size: 2000 shows\n",
      "\tC/V ratio: 0.11935310616458793\n",
      "\tHerdan's Law ratio: 0.11202303796806906\n",
      "\n"
     ]
    }
   ],
   "source": [
    "for key in variable_corpus_data.keys():\n",
    "    current_corpus = variable_corpus_data[key]['corpus']\n",
    "    current_vocab_size = len(variable_corpus_data[key]['vocabulary_size'])\n",
    "    current_cv_ratio = key / current_vocab_size\n",
    "\n",
    "    L = len(current_corpus)/key\n",
    "\n",
    "    print(f'Corpus size: {key} shows')\n",
    "    print(f'\\tC/V ratio: {current_cv_ratio}')\n",
    "    print(f'\\tHerdan\\'s Law ratio: {len(current_corpus) ** (1-beta) / (k * L)}')\n",
    "    print()"
   ]
  },
  {
   "cell_type": "markdown",
   "metadata": {},
   "source": [
    "### 2.3 (0.5 marks)\n",
    "\n",
    "Based on your answer to 2.2, you can reasonably expect that one of the\n",
    "best ways to improve our classifier will be to add more documents.\n",
    "\n",
    "If current trends continue, TVmaze will have information for a million\n",
    "shows in should happen in 2045.\n",
    "\n",
    "What would you expect for the following:\n",
    "\n",
    "- $C/V$\n",
    "\n",
    "- The total vocabulary size (using Herdan's Law)\n"
   ]
  },
  {
   "cell_type": "code",
   "execution_count": 46,
   "metadata": {},
   "outputs": [
    {
     "name": "stdout",
     "output_type": "stream",
     "text": [
      "Vocabulary size for 1,000,000 shows: 1215860.680350382\n",
      "C/V ratio for 1,000,000 shows: 0.8224626523096575\n"
     ]
    }
   ],
   "source": [
    "N_predicted = (len(variable_corpus_data[total_shows]['corpus']) / total_shows) * 1_000_000\n",
    "\n",
    "# Predict vocabulary size using Herdan's Law formula\n",
    "V_predicted = k * N_predicted ** beta\n",
    "print(f'Vocabulary size for 1,000,000 shows: {V_predicted}')\n",
    "\n",
    "# Calculate the C/V ratio\n",
    "C_V_ratio = 1_000_000 / V_predicted\n",
    "print(f'C/V ratio for 1,000,000 shows: {C_V_ratio}')\n"
   ]
  },
  {
   "cell_type": "markdown",
   "metadata": {},
   "source": [
    "## Analysis\n",
    "According to Herdan's Law, the vocabulary size tends to increase as the corpus size grows.The C/V ratio, representing the ratio of shows to vocabulary size, is expected to increase with the corpus size, as indicated by the formula in section 2.2. Under Herdan's Law, the vocabulary size (V) increases at a slower rate compared to a linear function. This means that as we have more documents in the corpus, each word becomes more valuable in differentiating the genres of various documents. This assumes that the growth of the vocabulary size is slower and the model parameters remain constant"
   ]
  },
  {
   "cell_type": "markdown",
   "metadata": {},
   "source": [
    "### 2.4 (0.5 marks)\n",
    "\n",
    "You will use this answer to tune the classifier in Task 4.\n",
    "\n",
    "We should exclude happax legomena from the vocabulary, since they cannot be useful to the classifier.\n",
    "\n",
    "How many words of vocabulary remain?"
   ]
  },
  {
   "cell_type": "code",
   "execution_count": 56,
   "metadata": {},
   "outputs": [
    {
     "name": "stdout",
     "output_type": "stream",
     "text": [
      "Vocabulary size without hapax legomena: 7488\n"
     ]
    }
   ],
   "source": [
    "current_corpus = variable_corpus_data[total_shows]['corpus']\n",
    "\n",
    "# Remove words that appear only once (hapax legomena)\n",
    "current_corpus = [word for word in current_corpus if current_corpus.count(word) > 1]\n",
    "\n",
    "# Calculate the vocabulary size without hapax legomena (words that appear only once)\n",
    "vocab_for_tuning = len(set(current_corpus))\n",
    "\n",
    "print(f'Vocabulary size without hapax legomena: {vocab_for_tuning}')\n"
   ]
  },
  {
   "cell_type": "markdown",
   "metadata": {},
   "source": [
    "### 2.5 (1 mark)\n",
    "\n",
    "We have mentioned Chollet's heuristic in class:\n",
    "\n",
    "> It turns out that when approaching a new text-classification task, you should pay close attention to the ratio between the number of samples in your training data and the mean number of words per sample (see figure 11.11). If that ratio is small—less than 1,500—then the bag-of-bigrams model will perform better (and as a bonus, it will be much faster to train and to iterate on too). If that ratio is higher than 1,500, then you should go with a sequence model.\n",
    "\n",
    "Calculate this ratio."
   ]
  },
  {
   "cell_type": "code",
   "execution_count": 57,
   "metadata": {},
   "outputs": [
    {
     "name": "stdout",
     "output_type": "stream",
     "text": [
      "The Chollet's heristics is: 26.423395274175753\n"
     ]
    }
   ],
   "source": [
    "current_corpus = variable_corpus_data[total_shows]['corpus']\n",
    "num_samples = total_shows\n",
    "average_num_words = len(current_corpus)/num_samples\n",
    "print(\"The Chollet's heristics is:\", num_samples/average_num_words)"
   ]
  },
  {
   "cell_type": "markdown",
   "metadata": {},
   "source": [
    "## Task 3 (5 marks) - Information retrieval\n",
    "\n",
    "In this task you are going to create a naive search engine that will let you find a \"similar\"\n",
    "TV show."
   ]
  },
  {
   "cell_type": "markdown",
   "metadata": {},
   "source": [
    "Here is a randomly-selected show for you to use in this section. You will also use the data\n",
    "in `show_df`."
   ]
  },
  {
   "cell_type": "code",
   "execution_count": 58,
   "metadata": {},
   "outputs": [
    {
     "data": {
      "text/html": [
       "<div>\n",
       "<style scoped>\n",
       "    .dataframe tbody tr th:only-of-type {\n",
       "        vertical-align: middle;\n",
       "    }\n",
       "\n",
       "    .dataframe tbody tr th {\n",
       "        vertical-align: top;\n",
       "    }\n",
       "\n",
       "    .dataframe thead th {\n",
       "        text-align: right;\n",
       "    }\n",
       "</style>\n",
       "<table border=\"1\" class=\"dataframe\">\n",
       "  <thead>\n",
       "    <tr style=\"text-align: right;\">\n",
       "      <th></th>\n",
       "      <th>469</th>\n",
       "    </tr>\n",
       "  </thead>\n",
       "  <tbody>\n",
       "    <tr>\n",
       "      <th>tvmaze_id</th>\n",
       "      <td>19360</td>\n",
       "    </tr>\n",
       "    <tr>\n",
       "      <th>showname</th>\n",
       "      <td>Let It Shine</td>\n",
       "    </tr>\n",
       "    <tr>\n",
       "      <th>description</th>\n",
       "      <td>&lt;p&gt;Gary Barlow will lead the search for a band...</td>\n",
       "    </tr>\n",
       "    <tr>\n",
       "      <th>in_genre</th>\n",
       "      <td>1.0</td>\n",
       "    </tr>\n",
       "  </tbody>\n",
       "</table>\n",
       "</div>"
      ],
      "text/plain": [
       "                                                           469\n",
       "tvmaze_id                                                19360\n",
       "showname                                          Let It Shine\n",
       "description  <p>Gary Barlow will lead the search for a band...\n",
       "in_genre                                                   1.0"
      ]
     },
     "execution_count": 58,
     "metadata": {},
     "output_type": "execute_result"
    }
   ],
   "source": [
    "selected_show = show_df[show_df.in_genre == 1.0].sample(n=1, random_state=random_state_key)\n",
    "selected_show.T"
   ]
  },
  {
   "cell_type": "code",
   "execution_count": 59,
   "metadata": {},
   "outputs": [
    {
     "data": {
      "text/plain": [
       "\"<p>Gary Barlow will lead the search for a band to star in a new stage show featuring the songs of Take That. The show will see Gary search for performers to take part in a competition to find a new band to star in a stage show featuring the music of the popular group.</p><p>The start of the eight-week competition will be filmed in Salford in front of a live audience. The public can apply for tickets to watch the recordings. It's fitting that the search is starting in Salford as Take That were formed in neighbouring Manchester and the city is considered the 'spiritual home' of the band.</p>\""
      ]
     },
     "execution_count": 59,
     "metadata": {},
     "output_type": "execute_result"
    }
   ],
   "source": [
    "selected_show.iloc[0].description"
   ]
  },
  {
   "cell_type": "markdown",
   "metadata": {},
   "source": [
    "### 3.1 (2 marks)\n",
    "\n",
    "Vectorise the `description` of each show using TFIDF. \n",
    "\n",
    "- Vectorise words and bigrams\n",
    "\n",
    "- Only include words and bigrams that appear twice\n",
    "\n",
    "- Only include words and bigrams that appear in less than 50% of the descriptions"
   ]
  },
  {
   "cell_type": "code",
   "execution_count": 68,
   "metadata": {},
   "outputs": [
    {
     "data": {
      "text/plain": [
       "<1x17721 sparse matrix of type '<class 'numpy.float64'>'\n",
       "\twith 103 stored elements in Compressed Sparse Row format>"
      ]
     },
     "execution_count": 68,
     "metadata": {},
     "output_type": "execute_result"
    }
   ],
   "source": [
    "from sklearn.feature_extraction.text import TfidfVectorizer\n",
    "#min_df to ensure bigram\n",
    "# max_df to ensure appear in less than 50% documents\n",
    "# Initialize the TfidfVectorizer with specified parameters\n",
    "vectorizer = TfidfVectorizer(min_df=2, max_df=0.5, ngram_range=(1, 2))\n",
    "\n",
    "# Fit the vectorizer on the descriptions in the show dataframe\n",
    "vectorizer.fit(show_df.description)\n",
    "\n",
    "# Transform the selected show's description using the fitted vectorizer\n",
    "vectorized_show = vectorizer.transform(selected_show.description)\n",
    "\n",
    "#Showing details\n",
    "vectorized_show"
   ]
  },
  {
   "cell_type": "markdown",
   "metadata": {},
   "source": [
    "### 3.2 (1 mark)\n",
    "\n",
    "Write code that shows the size of this new vocabulary (the total number of words and bigrams)."
   ]
  },
  {
   "cell_type": "code",
   "execution_count": 64,
   "metadata": {},
   "outputs": [
    {
     "name": "stdout",
     "output_type": "stream",
     "text": [
      "Vocabulary size for vectorized show: 17721\n"
     ]
    }
   ],
   "source": [
    "print(f'Vocabulary size for vectorized show: {vectorized_show.shape[1]}')"
   ]
  },
  {
   "cell_type": "markdown",
   "metadata": {},
   "source": [
    "### 3.3 (2 marks)\n",
    "\n",
    "Iterate over the shows that don't have your genre to find the show whose description is most\n",
    "similar (using cosine similarity) to the show that was chosen for you.\n",
    "\n",
    "That is, you should end up with a show that:\n",
    "\n",
    "- Has a very similar description to the show described at the start of Task 3\n",
    "\n",
    "- Belongs to a diffferent genre.\n",
    "\n"
   ]
  },
  {
   "cell_type": "code",
   "execution_count": 71,
   "metadata": {},
   "outputs": [
    {
     "name": "stdout",
     "output_type": "stream",
     "text": [
      "The show that is most similar (excluding those of the same genre) to our chosen one is:\n",
      "<p><b>Dream Home Dilemma</b> sees our expert real estate hosts Shane Cortese, Anita Dobson and Hamish Dodd, guide house hunters on the search for their dream home.</p>\n"
     ]
    }
   ],
   "source": [
    "import numpy as np\n",
    "from sklearn.feature_extraction.text import TfidfVectorizer\n",
    "from sklearn.metrics.pairwise import cosine_similarity\n",
    "\n",
    "# Create a TF-IDF vectorizer\n",
    "vectorizer = TfidfVectorizer(min_df=2, max_df=0.5, ngram_range=(1, 2))\n",
    "vectorizer.fit(show_df.description)\n",
    "\n",
    "# Vectorize the description of the chosen show\n",
    "chosen_vec = vectorizer.transform([selected_show.iloc[0].description])\n",
    "\n",
    "# Calculate cosine similarities between chosen show and all shows\n",
    "cosine_similarities = cosine_similarity(chosen_vec, vectorizer.transform(show_df.description))\n",
    "cosine_similarities = cosine_similarities[0]\n",
    "\n",
    "# Find the index of the most similar show (excluding shows from the same genre)\n",
    "most_similar_index = np.argmax(cosine_similarities * (1 - show_df.in_genre))\n",
    "\n",
    "# Retrieve the description of the most similar show\n",
    "most_similar_description = show_df.iloc[most_similar_index].description\n",
    "\n",
    "# Print the description of the most similar show\n",
    "print(\"The show that is most similar (excluding those of the same genre) to our chosen one is:\")\n",
    "print(most_similar_description)\n"
   ]
  },
  {
   "cell_type": "markdown",
   "metadata": {},
   "source": [
    "## Task 4 (10 marks) - detect genres\n",
    "\n",
    "In this task, we'll be building a naively simple model for identifying TV genres."
   ]
  },
  {
   "cell_type": "markdown",
   "metadata": {},
   "source": [
    "### 4.1 (1 mark)\n",
    "\n",
    "Use an sklearn function to break your dataset into a training set, and a test set. "
   ]
  },
  {
   "cell_type": "markdown",
   "metadata": {},
   "source": [
    "Set the random number initializer to your \n",
    "`random_state_key` so that this notebook always returns the same results."
   ]
  },
  {
   "cell_type": "code",
   "execution_count": 115,
   "metadata": {},
   "outputs": [
    {
     "name": "stdout",
     "output_type": "stream",
     "text": [
      "Number of training samples: 1440\n",
      "Number of test samples: 400\n",
      "Number of validation samples: 160\n"
     ]
    }
   ],
   "source": [
    "from sklearn.model_selection import train_test_split\n",
    "\n",
    "# Split the data into training and test sets\n",
    "training, test = train_test_split(show_df, test_size=0.2, random_state=random_state_key)\n",
    "\n",
    "# 10% Validation data\n",
    "training, val = train_test_split(training, test_size = 0.1, random_state = random_state_key)\n",
    "\n",
    "# Print the number of training samples\n",
    "print(f'Number of training samples: {len(training)}')\n",
    "\n",
    "# Print the number of test samples\n",
    "print(f'Number of test samples: {len(test)}')\n",
    "\n",
    "\n",
    "# Print the number of Val samples\n",
    "print(f'Number of validation samples: {len(val)}')"
   ]
  },
  {
   "cell_type": "markdown",
   "metadata": {},
   "source": [
    "### 4.2 (1 mark)\n",
    "\n",
    "Create a vectorizer for your data, and prepare it on the descriptions in the training data. \n",
    "\n",
    "Set `max_tokens` to the value in your answer from 2.4 (plus 1 for the \"unknown\" token).\n",
    "\n",
    "(The vectorizer you used in section 3.1 was trained on all data, not just your training data,\n",
    "so cannot be re-used here without leaking test information into the training data.)\n",
    "\n",
    "It should use TFIDF weighting. "
   ]
  },
  {
   "cell_type": "code",
   "execution_count": 116,
   "metadata": {},
   "outputs": [],
   "source": [
    "import keras\n",
    "\n",
    "# declare a vectorizer\n",
    "vectorizer = keras.layers.TextVectorization(output_mode='tf_idf', max_tokens = vocab_for_tuning+1) \n",
    "\n",
    "# adapt on training data\n",
    "vectorizer.adapt(training['description'])"
   ]
  },
  {
   "cell_type": "markdown",
   "metadata": {},
   "source": [
    "### 4.3 (1 mark)\n",
    "\n",
    "Use the vectorizer to transform the training and test data"
   ]
  },
  {
   "cell_type": "code",
   "execution_count": 117,
   "metadata": {},
   "outputs": [],
   "source": [
    "train_transformed = vectorizer(training['description'])\n",
    "test_transformed  = vectorizer(test['description'])\n",
    "val_transformed = vectorizer(val['description'])"
   ]
  },
  {
   "cell_type": "code",
   "execution_count": 118,
   "metadata": {},
   "outputs": [
    {
     "data": {
      "text/plain": [
       "<tf.Tensor: shape=(7489,), dtype=float32, numpy=\n",
       "array([5.8259926, 1.5634011, 0.       , ..., 0.       , 0.       ,\n",
       "       0.       ], dtype=float32)>"
      ]
     },
     "execution_count": 118,
     "metadata": {},
     "output_type": "execute_result"
    }
   ],
   "source": [
    "train_transformed[0]"
   ]
  },
  {
   "cell_type": "code",
   "execution_count": 119,
   "metadata": {},
   "outputs": [
    {
     "data": {
      "text/plain": [
       "<tf.Tensor: shape=(7489,), dtype=float32, numpy=array([0., 0., 0., ..., 0., 0., 0.], dtype=float32)>"
      ]
     },
     "execution_count": 119,
     "metadata": {},
     "output_type": "execute_result"
    }
   ],
   "source": [
    "test_transformed[0]"
   ]
  },
  {
   "cell_type": "code",
   "execution_count": 120,
   "metadata": {},
   "outputs": [
    {
     "data": {
      "text/plain": [
       "<tf.Tensor: shape=(7489,), dtype=float32, numpy=\n",
       "array([58.259926 ,  0.       ,  1.6394198, ...,  0.       ,  0.       ,\n",
       "        0.       ], dtype=float32)>"
      ]
     },
     "execution_count": 120,
     "metadata": {},
     "output_type": "execute_result"
    }
   ],
   "source": [
    "val_transformed[0]"
   ]
  },
  {
   "cell_type": "markdown",
   "metadata": {},
   "source": [
    "### 4.4 (2 marks)\n",
    "\n",
    "We are creating a logistic regression model using Keras, which we will use\n",
    "to predict the genre of a TV show based on its description.\n",
    "\n",
    "Create a model based on the following:\n",
    "\n",
    "- An input layer with a shape based on the size of the vocabulary from your vectorization.\n",
    "\n",
    "- An output layer that uses a sigmoid activation function.\n",
    "\n",
    "Compile your model (choose an appropriate loss, and add 'accuracy' as a metric) and display a summary of it."
   ]
  },
  {
   "cell_type": "code",
   "execution_count": 129,
   "metadata": {},
   "outputs": [
    {
     "name": "stdout",
     "output_type": "stream",
     "text": [
      "Model: \"model_7\"\n",
      "_________________________________________________________________\n",
      " Layer (type)                Output Shape              Param #   \n",
      "=================================================================\n",
      " input_12 (InputLayer)       [(None, 7489)]            0         \n",
      "                                                                 \n",
      " dense_10 (Dense)            (None, 1)                 7490      \n",
      "                                                                 \n",
      "=================================================================\n",
      "Total params: 7,490\n",
      "Trainable params: 7,490\n",
      "Non-trainable params: 0\n",
      "_________________________________________________________________\n"
     ]
    }
   ],
   "source": [
    "import tensorflow as tf\n",
    "from keras.layers import Dense, Input\n",
    "\n",
    "model_inputs = keras.Input(shape=(vocab_for_tuning+1,))\n",
    "model_outputs = Dense(1, activation='sigmoid')(model_inputs)\n",
    "\n",
    "model = keras.Model(inputs = [model_inputs], outputs = [model_outputs])\n",
    "\n",
    "model.compile(loss='binary_crossentropy', optimizer='adam', metrics=['accuracy'])\n",
    "model.summary()"
   ]
  },
  {
   "cell_type": "markdown",
   "metadata": {},
   "source": [
    "### 4.5 (1 mark)\n",
    "\n",
    "Fit the model to the training data. The target variable is `in_genre`.\n",
    "Hold out 10% of the data as validation data. Stop when the loss in the \n",
    "validation data stops improving."
   ]
  },
  {
   "cell_type": "code",
   "execution_count": 130,
   "metadata": {},
   "outputs": [
    {
     "name": "stdout",
     "output_type": "stream",
     "text": [
      "Epoch 1/200\n",
      "45/45 [==============================] - 1s 5ms/step - loss: 0.6811 - accuracy: 0.5736 - val_loss: 0.5837 - val_accuracy: 0.7375\n",
      "Epoch 2/200\n",
      "45/45 [==============================] - 0s 4ms/step - loss: 0.4353 - accuracy: 0.8882 - val_loss: 0.4858 - val_accuracy: 0.8062\n",
      "Epoch 3/200\n",
      "45/45 [==============================] - 0s 4ms/step - loss: 0.3312 - accuracy: 0.9486 - val_loss: 0.4460 - val_accuracy: 0.8313\n",
      "Epoch 4/200\n",
      "45/45 [==============================] - 0s 3ms/step - loss: 0.2702 - accuracy: 0.9646 - val_loss: 0.4278 - val_accuracy: 0.8125\n",
      "Epoch 5/200\n",
      "45/45 [==============================] - 0s 2ms/step - loss: 0.2268 - accuracy: 0.9743 - val_loss: 0.4125 - val_accuracy: 0.8188\n",
      "Epoch 6/200\n",
      "45/45 [==============================] - 0s 3ms/step - loss: 0.1953 - accuracy: 0.9806 - val_loss: 0.4013 - val_accuracy: 0.8250\n",
      "Epoch 7/200\n",
      "45/45 [==============================] - 0s 3ms/step - loss: 0.1711 - accuracy: 0.9819 - val_loss: 0.3961 - val_accuracy: 0.8313\n",
      "Epoch 8/200\n",
      "45/45 [==============================] - 0s 2ms/step - loss: 0.1518 - accuracy: 0.9854 - val_loss: 0.3940 - val_accuracy: 0.8313\n",
      "Epoch 9/200\n",
      "45/45 [==============================] - 0s 2ms/step - loss: 0.1361 - accuracy: 0.9861 - val_loss: 0.3923 - val_accuracy: 0.8313\n",
      "Epoch 10/200\n",
      "45/45 [==============================] - 0s 2ms/step - loss: 0.1233 - accuracy: 0.9875 - val_loss: 0.3916 - val_accuracy: 0.8313\n",
      "Epoch 11/200\n",
      "45/45 [==============================] - 0s 2ms/step - loss: 0.1123 - accuracy: 0.9896 - val_loss: 0.3961 - val_accuracy: 0.8313\n",
      "Epoch 12/200\n",
      "45/45 [==============================] - 0s 2ms/step - loss: 0.1030 - accuracy: 0.9903 - val_loss: 0.3956 - val_accuracy: 0.8313\n",
      "Epoch 13/200\n",
      "45/45 [==============================] - 0s 3ms/step - loss: 0.0951 - accuracy: 0.9917 - val_loss: 0.3962 - val_accuracy: 0.8313\n",
      "Epoch 14/200\n",
      "45/45 [==============================] - 0s 2ms/step - loss: 0.0881 - accuracy: 0.9917 - val_loss: 0.3968 - val_accuracy: 0.8313\n",
      "Epoch 15/200\n",
      "45/45 [==============================] - 0s 2ms/step - loss: 0.0820 - accuracy: 0.9917 - val_loss: 0.4004 - val_accuracy: 0.8313\n"
     ]
    }
   ],
   "source": [
    "# Fit the model to the training data and perform validation\n",
    "history = model.fit(\n",
    "    x=train_transformed,  # Training data\n",
    "    y=training['in_genre'],  # Labels for training data\n",
    "    validation_data=(val_transformed, val['in_genre']),  # Validation data and labels\n",
    "    callbacks=[keras.callbacks.EarlyStopping(monitor=\"val_loss\", patience=5, restore_best_weights=True)],  # Early stopping callback\n",
    "    verbose=1,  # Verbosity level for training progress information\n",
    "    epochs=200  # Number of epochs for training\n",
    ")\n"
   ]
  },
  {
   "cell_type": "markdown",
   "metadata": {},
   "source": [
    "### 4.6 (1 mark)\n",
    "\n",
    "Plot the training and validation loss and accuracy and confirm whether your model has begun to overfit."
   ]
  },
  {
   "cell_type": "code",
   "execution_count": 131,
   "metadata": {},
   "outputs": [
    {
     "data": {
      "image/png": "[encoded data removed]",
      "text/plain": [
       "<Figure size 432x288 with 1 Axes>"
      ]
     },
     "metadata": {
      "needs_background": "light"
     },
     "output_type": "display_data"
    },
    {
     "data": {
      "image/png": "[encoded data removed]",
      "text/plain": [
       "<Figure size 432x288 with 1 Axes>"
      ]
     },
     "metadata": {
      "needs_background": "light"
     },
     "output_type": "display_data"
    }
   ],
   "source": [
    "# Plot the training and validation loss\n",
    "\n",
    "plt.plot(history.history['loss'], label='Training loss')\n",
    "plt.plot(history.history['val_loss'], label='Validation loss')\n",
    "plt.xlabel('Epoch')\n",
    "plt.ylabel('Loss')\n",
    "plt.legend()\n",
    "plt.show()\n",
    "\n",
    "# Plot the training and validation accuracy\n",
    "plt.plot(history.history['accuracy'], label='Training accuracy')\n",
    "plt.plot(history.history['val_accuracy'], label='Validation accuracy')\n",
    "plt.xlabel('Epoch')\n",
    "plt.ylabel('Accuracy')\n",
    "plt.legend()\n",
    "plt.show()"
   ]
  },
  {
   "cell_type": "markdown",
   "metadata": {},
   "source": [
    "## Analysis\n",
    "\n",
    "Overfitting is evident as the training loss falls more quickly than the validation loss after the first epoch. On the other hand the training accuracy is much more than the validation accuracy."
   ]
  },
  {
   "cell_type": "markdown",
   "metadata": {},
   "source": [
    "### 4.7 (1 mark)\n",
    "\n",
    "Report the accuracy of your model on the test data. It should be quite close to the\n",
    "validation accuracy."
   ]
  },
  {
   "cell_type": "code",
   "execution_count": 133,
   "metadata": {},
   "outputs": [
    {
     "name": "stdout",
     "output_type": "stream",
     "text": [
      "--Validation Dataset--\n",
      "5/5 [==============================] - 0s 3ms/step - loss: 0.3916 - accuracy: 0.8313\n",
      "Validation Loss: 0.3915986716747284\n",
      "Validation Accuracy: 0.831250011920929\n"
     ]
    }
   ],
   "source": [
    "# Metrics on the validation dataset using the best model (model with lowest validation loss)\n",
    "evaluation = model.evaluate(val_transformed, val['in_genre'], return_dict=True)\n",
    "print(\"Validation Loss:\", evaluation['loss'])\n",
    "print(\"Validation Accuracy:\", evaluation['accuracy'])\n"
   ]
  },
  {
   "cell_type": "code",
   "execution_count": 134,
   "metadata": {},
   "outputs": [
    {
     "name": "stdout",
     "output_type": "stream",
     "text": [
      "13/13 [==============================] - 0s 2ms/step - loss: 0.4840 - accuracy: 0.7950\n",
      "Test Loss: 0.48395010828971863\n",
      "Test Accuracy: 0.7950000166893005\n"
     ]
    }
   ],
   "source": [
    "# Metrics on the test dataset using the best model (model with lowest validation loss)\n",
    "evaluation = model.evaluate(test_transformed, test['in_genre'], return_dict=True)\n",
    "print(\"Test Loss:\", evaluation['loss'])\n",
    "print(\"Test Accuracy:\", evaluation['accuracy'])\n"
   ]
  },
  {
   "cell_type": "markdown",
   "metadata": {},
   "source": [
    "## Analysis\n",
    "\n",
    "The test accuracy of 0.795 is close to the validation accuracy of 0.831"
   ]
  },
  {
   "cell_type": "markdown",
   "metadata": {},
   "source": [
    "### 4.8 (1 mark)\n",
    "\n",
    "Extract the weights from the logistic regression layer, and match them up with the words in the\n",
    "vocabulary.\n",
    "\n",
    "Identify any vocabulary that is strongly associated with being in-genre or with being out-of-genre."
   ]
  },
  {
   "cell_type": "code",
   "execution_count": 137,
   "metadata": {},
   "outputs": [
    {
     "name": "stdout",
     "output_type": "stream",
     "text": [
      "Top 10 words with highest weights:\n",
      "          word    weight\n",
      "20       music  0.200907\n",
      "368     musicp  0.159052\n",
      "117       rock  0.158167\n",
      "104       band  0.157933\n",
      "64     musical  0.150427\n",
      "150    singing  0.143908\n",
      "296  musicians  0.143785\n",
      "121       idol  0.142565\n",
      "256    variety  0.133200\n",
      "178     talent  0.129993\n",
      "\n",
      "Top 10 words with lowest weights:\n",
      "          word    weight\n",
      "644    protect -0.126326\n",
      "1526  analysis -0.118100\n",
      "936      build -0.113000\n",
      "636     sports -0.110597\n",
      "1306   daytime -0.109836\n",
      "403     hidden -0.104046\n",
      "3810    agents -0.100198\n",
      "1197    sitcom -0.098508\n",
      "1763  designer -0.098042\n",
      "1500       cop -0.096665\n"
     ]
    }
   ],
   "source": [
    "# Getting the weights\n",
    "weights = model.get_weights()[0][:,0]\n",
    "\n",
    "# get the vocabulary\n",
    "vocabulary = vectorizer.get_vocabulary()\n",
    "\n",
    "weights_df = pd.DataFrame({'word': vocabulary, 'weight': weights})\n",
    "\n",
    "# sort the dataframe by weight\n",
    "weights_df_top = weights_df.sort_values(by='weight', ascending=False)\n",
    "weights_df_bot = weights_df.sort_values(by='weight', ascending=True)\n",
    "\n",
    "print('Top 10 words with highest weights:')\n",
    "print(weights_df_top.head(10))\n",
    "print()\n",
    "print('Top 10 words with lowest weights:')\n",
    "print(weights_df_bot.head(10))"
   ]
  },
  {
   "cell_type": "markdown",
   "metadata": {},
   "source": [
    "### 4.9 (1 mark)\n",
    "\n",
    "Create a description of a new show to pitch to someone at Macquarie's Film and Television School that is going to be strongly associated with your genre. If you are lacking inspiration, this is the kind of task that \n",
    "large language models do quite well.\n",
    "\n",
    "Confirm that your model does correctly predict the genre."
   ]
  },
  {
   "cell_type": "code",
   "execution_count": 146,
   "metadata": {},
   "outputs": [
    {
     "name": "stdout",
     "output_type": "stream",
     "text": [
      "1/1 [==============================] - 0s 22ms/step\n",
      "Prediction: 0.9875672459602356, In genre: True\n"
     ]
    }
   ],
   "source": [
    "### generated from ChatGPT with the prompt: a description of a TV show with the music genre in under 60 words\n",
    "\n",
    "text = '\"Harmonious Hits\" is a captivating TV show that follows aspiring musicians on their journey to stardom. With its pulsating rhythm and soul-stirring melodies, this music-centered series showcases diverse genres like pop, rock, hip-hop, and more. Witness the exhilarating highs and heartbreaking lows as these talented artists harmonize their way through intense auditions, fierce competitions, and ultimately, the quest for a record deal.'\n",
    "\n",
    "vectorized_text = vectorizer([text])\n",
    "prediction = model.predict(vectorized_text)\n",
    "print(f'Prediction: {prediction[0][0]}, In genre: {prediction[0][0] > 0.5}')"
   ]
  },
  {
   "cell_type": "markdown",
   "metadata": {},
   "source": [
    "## Analysis\n",
    "\n",
    "The model provides a correct prediction with a probability of 0.9876"
   ]
  },
  {
   "cell_type": "markdown",
   "metadata": {},
   "source": [
    "## Task 5 (2 marks) - embeddings"
   ]
  },
  {
   "cell_type": "markdown",
   "metadata": {},
   "source": [
    "### Task 5.1 (2 marks)\n",
    "\n",
    "Create a new model with an embedding layer, compile it, fit it and evaluate its performance on the training data\n",
    "set.\n",
    "\n",
    "Don't worry if it doesn't improve the model performance --- based on \n",
    "your answers to 2.3 we would expect an embedding layer to make it much worse, and based on 2.5 we would\n",
    "expect a sequence-to-sequence model to perform poorly as well!"
   ]
  },
  {
   "cell_type": "code",
   "execution_count": 235,
   "metadata": {},
   "outputs": [],
   "source": [
    "# Import the required libraries\n",
    "from tensorflow.keras.preprocessing.text import Tokenizer\n",
    "from tensorflow.keras.preprocessing.sequence import pad_sequences\n",
    "from tensorflow.keras.callbacks import EarlyStopping\n",
    "from tensorflow.keras.models import Sequential\n",
    "from tensorflow.keras.layers import Embedding, Dense, GlobalAveragePooling1D\n",
    "\n",
    "# Define the maximum number of words and tokenizer\n",
    "tokenizer = Tokenizer(num_words=vocab_for_tuning+1, oov_token=\"[UNK]\") \n",
    "tokenizer.fit_on_texts(training['description'])\n",
    "\n",
    "# Convert words to indices\n",
    "train_sequences = tokenizer.texts_to_sequences(training['description'])\n",
    "val_sequences = tokenizer.texts_to_sequences(val['description'])\n",
    "test_sequences = tokenizer.texts_to_sequences(test['description'])\n",
    "\n",
    "# Define a function to pad sequences\n",
    "def pad_seq(sequence, length):\n",
    "    return pad_sequences(sequence, maxlen=length, truncating='post', padding='post')\n",
    "\n",
    "# Pad sequences to the maximum length per document\n",
    "padded_training = pad_seq(train_sequences, 250)\n",
    "padded_validation = pad_seq(val_sequences, 250)\n",
    "padded_test = pad_seq(test_sequences, 250)\n"
   ]
  },
  {
   "cell_type": "code",
   "execution_count": 233,
   "metadata": {},
   "outputs": [
    {
     "name": "stdout",
     "output_type": "stream",
     "text": [
      "Model: \"sequential_20\"\n",
      "_________________________________________________________________\n",
      " Layer (type)                Output Shape              Param #   \n",
      "=================================================================\n",
      " embedding_17 (Embedding)    (None, 250, 200)          1497800   \n",
      "                                                                 \n",
      " global_average_pooling1d_17  (None, 200)              0         \n",
      "  (GlobalAveragePooling1D)                                       \n",
      "                                                                 \n",
      " dense_43 (Dense)            (None, 20)                4020      \n",
      "                                                                 \n",
      " dense_44 (Dense)            (None, 1)                 21        \n",
      "                                                                 \n",
      "=================================================================\n",
      "Total params: 1,501,841\n",
      "Trainable params: 1,501,841\n",
      "Non-trainable params: 0\n",
      "_________________________________________________________________\n"
     ]
    }
   ],
   "source": [
    "# Building the embedded model\n",
    "\n",
    "def build_model(possible_words, embedding_dim, possible_len):\n",
    "    model = Sequential()\n",
    "    model.add(Embedding(input_dim=possible_words, output_dim=embedding_dim, input_length=possible_len))\n",
    "    model.add(GlobalAveragePooling1D())\n",
    "    model.add(Dense(20, activation='relu'))\n",
    "    model.add(Dense(1, activation='sigmoid'))\n",
    "    return model\n",
    "\n",
    "# Define the parameters\n",
    "embedding_dim = 200\n",
    "possible_words = possible_words\n",
    "possible_len = 250\n",
    "\n",
    "# Build the model\n",
    "model = build_model(possible_words, embedding_dim, possible_len)\n",
    "\n",
    "\n",
    "# Compiling the model\n",
    "model.compile(loss='binary_crossentropy', metrics=['accuracy'])\n",
    "\n",
    "# Providing the model summary\n",
    "model.summary()\n"
   ]
  },
  {
   "cell_type": "code",
   "execution_count": 234,
   "metadata": {},
   "outputs": [
    {
     "name": "stdout",
     "output_type": "stream",
     "text": [
      "Epoch 1/500\n",
      "45/45 [==============================] - 1s 14ms/step - loss: 0.6934 - accuracy: 0.5063 - val_loss: 0.6923 - val_accuracy: 0.5500\n",
      "Epoch 2/500\n",
      "45/45 [==============================] - 0s 9ms/step - loss: 0.6929 - accuracy: 0.5222 - val_loss: 0.6903 - val_accuracy: 0.5750\n",
      "Epoch 3/500\n",
      "45/45 [==============================] - 0s 9ms/step - loss: 0.6920 - accuracy: 0.5174 - val_loss: 0.6884 - val_accuracy: 0.6000\n",
      "Epoch 4/500\n",
      "45/45 [==============================] - 0s 8ms/step - loss: 0.6902 - accuracy: 0.5507 - val_loss: 0.6848 - val_accuracy: 0.6000\n",
      "Epoch 5/500\n",
      "45/45 [==============================] - 0s 9ms/step - loss: 0.6885 - accuracy: 0.5500 - val_loss: 0.6805 - val_accuracy: 0.6000\n",
      "Epoch 6/500\n",
      "45/45 [==============================] - 0s 9ms/step - loss: 0.6859 - accuracy: 0.5847 - val_loss: 0.6752 - val_accuracy: 0.5938\n",
      "Epoch 7/500\n",
      "45/45 [==============================] - 1s 12ms/step - loss: 0.6836 - accuracy: 0.5785 - val_loss: 0.6745 - val_accuracy: 0.6062\n",
      "Epoch 8/500\n",
      "45/45 [==============================] - 0s 11ms/step - loss: 0.6812 - accuracy: 0.5958 - val_loss: 0.6654 - val_accuracy: 0.6062\n",
      "Epoch 9/500\n",
      "45/45 [==============================] - 0s 9ms/step - loss: 0.6773 - accuracy: 0.5979 - val_loss: 0.6596 - val_accuracy: 0.6062\n",
      "Epoch 10/500\n",
      "45/45 [==============================] - 1s 12ms/step - loss: 0.6749 - accuracy: 0.5813 - val_loss: 0.6546 - val_accuracy: 0.6500\n",
      "Epoch 11/500\n",
      "45/45 [==============================] - 0s 9ms/step - loss: 0.6704 - accuracy: 0.6097 - val_loss: 0.6494 - val_accuracy: 0.6375\n",
      "Epoch 12/500\n",
      "45/45 [==============================] - 1s 12ms/step - loss: 0.6669 - accuracy: 0.6069 - val_loss: 0.6474 - val_accuracy: 0.6375\n",
      "Epoch 13/500\n",
      "45/45 [==============================] - 1s 18ms/step - loss: 0.6611 - accuracy: 0.6167 - val_loss: 0.6397 - val_accuracy: 0.6500\n",
      "Epoch 14/500\n",
      "45/45 [==============================] - 0s 10ms/step - loss: 0.6561 - accuracy: 0.6271 - val_loss: 0.6352 - val_accuracy: 0.6750\n",
      "Epoch 15/500\n",
      "45/45 [==============================] - 0s 10ms/step - loss: 0.6498 - accuracy: 0.6410 - val_loss: 0.6266 - val_accuracy: 0.6938\n",
      "Epoch 16/500\n",
      "45/45 [==============================] - 0s 9ms/step - loss: 0.6446 - accuracy: 0.6556 - val_loss: 0.6210 - val_accuracy: 0.6438\n",
      "Epoch 17/500\n",
      "45/45 [==============================] - 0s 10ms/step - loss: 0.6333 - accuracy: 0.6687 - val_loss: 0.6114 - val_accuracy: 0.7000\n",
      "Epoch 18/500\n",
      "45/45 [==============================] - 0s 9ms/step - loss: 0.6231 - accuracy: 0.6833 - val_loss: 0.6043 - val_accuracy: 0.6812\n",
      "Epoch 19/500\n",
      "45/45 [==============================] - 0s 9ms/step - loss: 0.6120 - accuracy: 0.6951 - val_loss: 0.5912 - val_accuracy: 0.7125\n",
      "Epoch 20/500\n",
      "45/45 [==============================] - 0s 10ms/step - loss: 0.5984 - accuracy: 0.7139 - val_loss: 0.5814 - val_accuracy: 0.7125\n",
      "Epoch 21/500\n",
      "45/45 [==============================] - 1s 12ms/step - loss: 0.5871 - accuracy: 0.7181 - val_loss: 0.5673 - val_accuracy: 0.7625\n",
      "Epoch 22/500\n",
      "45/45 [==============================] - 0s 9ms/step - loss: 0.5721 - accuracy: 0.7299 - val_loss: 0.5527 - val_accuracy: 0.7688\n",
      "Epoch 23/500\n",
      "45/45 [==============================] - 0s 10ms/step - loss: 0.5517 - accuracy: 0.7604 - val_loss: 0.5670 - val_accuracy: 0.7250\n",
      "Epoch 24/500\n",
      "45/45 [==============================] - 0s 11ms/step - loss: 0.5358 - accuracy: 0.7694 - val_loss: 0.5274 - val_accuracy: 0.7500\n",
      "Epoch 25/500\n",
      "45/45 [==============================] - 1s 11ms/step - loss: 0.5147 - accuracy: 0.7861 - val_loss: 0.5075 - val_accuracy: 0.7937\n",
      "Epoch 26/500\n",
      "45/45 [==============================] - 1s 12ms/step - loss: 0.4941 - accuracy: 0.8014 - val_loss: 0.4882 - val_accuracy: 0.7750\n",
      "Epoch 27/500\n",
      "45/45 [==============================] - 0s 10ms/step - loss: 0.4720 - accuracy: 0.8139 - val_loss: 0.4716 - val_accuracy: 0.8000\n",
      "Epoch 28/500\n",
      "45/45 [==============================] - 0s 9ms/step - loss: 0.4483 - accuracy: 0.8285 - val_loss: 0.4546 - val_accuracy: 0.8188\n",
      "Epoch 29/500\n",
      "45/45 [==============================] - 0s 9ms/step - loss: 0.4249 - accuracy: 0.8438 - val_loss: 0.4420 - val_accuracy: 0.7937\n",
      "Epoch 30/500\n",
      "45/45 [==============================] - 0s 9ms/step - loss: 0.4055 - accuracy: 0.8632 - val_loss: 0.4293 - val_accuracy: 0.8188\n",
      "Epoch 31/500\n",
      "45/45 [==============================] - 0s 9ms/step - loss: 0.3811 - accuracy: 0.8715 - val_loss: 0.4072 - val_accuracy: 0.8375\n",
      "Epoch 32/500\n",
      "45/45 [==============================] - 0s 9ms/step - loss: 0.3586 - accuracy: 0.8840 - val_loss: 0.3986 - val_accuracy: 0.8250\n",
      "Epoch 33/500\n",
      "45/45 [==============================] - 0s 9ms/step - loss: 0.3386 - accuracy: 0.8958 - val_loss: 0.3817 - val_accuracy: 0.8375\n",
      "Epoch 34/500\n",
      "45/45 [==============================] - 0s 9ms/step - loss: 0.3175 - accuracy: 0.9014 - val_loss: 0.3691 - val_accuracy: 0.8438\n",
      "Epoch 35/500\n",
      "45/45 [==============================] - 0s 9ms/step - loss: 0.2961 - accuracy: 0.9153 - val_loss: 0.3603 - val_accuracy: 0.8313\n",
      "Epoch 36/500\n",
      "45/45 [==============================] - 0s 9ms/step - loss: 0.2778 - accuracy: 0.9208 - val_loss: 0.3502 - val_accuracy: 0.8438\n",
      "Epoch 37/500\n",
      "45/45 [==============================] - 0s 8ms/step - loss: 0.2646 - accuracy: 0.9299 - val_loss: 0.3659 - val_accuracy: 0.8125\n",
      "Epoch 38/500\n",
      "45/45 [==============================] - 0s 10ms/step - loss: 0.2529 - accuracy: 0.9264 - val_loss: 0.3693 - val_accuracy: 0.8562\n",
      "Epoch 39/500\n",
      "45/45 [==============================] - 0s 10ms/step - loss: 0.2371 - accuracy: 0.9347 - val_loss: 0.3505 - val_accuracy: 0.8250\n",
      "Epoch 40/500\n",
      "45/45 [==============================] - 0s 9ms/step - loss: 0.2246 - accuracy: 0.9361 - val_loss: 0.3310 - val_accuracy: 0.8438\n",
      "Epoch 41/500\n",
      "45/45 [==============================] - 0s 10ms/step - loss: 0.2089 - accuracy: 0.9410 - val_loss: 0.3574 - val_accuracy: 0.8562\n",
      "Epoch 42/500\n",
      "45/45 [==============================] - 0s 9ms/step - loss: 0.1983 - accuracy: 0.9375 - val_loss: 0.3301 - val_accuracy: 0.8500\n",
      "Epoch 43/500\n",
      "45/45 [==============================] - 0s 9ms/step - loss: 0.1898 - accuracy: 0.9403 - val_loss: 0.3397 - val_accuracy: 0.8438\n",
      "Epoch 44/500\n",
      "45/45 [==============================] - 0s 8ms/step - loss: 0.1773 - accuracy: 0.9444 - val_loss: 0.3582 - val_accuracy: 0.8625\n",
      "Epoch 45/500\n",
      "45/45 [==============================] - 0s 9ms/step - loss: 0.1731 - accuracy: 0.9486 - val_loss: 0.3252 - val_accuracy: 0.8562\n",
      "Epoch 46/500\n",
      "45/45 [==============================] - 0s 9ms/step - loss: 0.1617 - accuracy: 0.9528 - val_loss: 0.3671 - val_accuracy: 0.8625\n",
      "Epoch 47/500\n",
      "45/45 [==============================] - 0s 9ms/step - loss: 0.1493 - accuracy: 0.9597 - val_loss: 0.3624 - val_accuracy: 0.8687\n",
      "Epoch 48/500\n",
      "45/45 [==============================] - 0s 11ms/step - loss: 0.1433 - accuracy: 0.9604 - val_loss: 0.3316 - val_accuracy: 0.8625\n",
      "Epoch 49/500\n",
      "45/45 [==============================] - 0s 10ms/step - loss: 0.1369 - accuracy: 0.9549 - val_loss: 0.3628 - val_accuracy: 0.8687\n",
      "Epoch 50/500\n",
      "45/45 [==============================] - 0s 11ms/step - loss: 0.1345 - accuracy: 0.9569 - val_loss: 0.3342 - val_accuracy: 0.8750\n"
     ]
    }
   ],
   "source": [
    "# Train the model\n",
    "history = model.fit(\n",
    "    padded_training,  # Training data\n",
    "    training['in_genre'],  # Labels for training data\n",
    "    epochs=500,  # Number of epochs for training\n",
    "    validation_data=(padded_validation, val['in_genre']),  # Validation data and labels\n",
    "    callbacks=[EarlyStopping(monitor='val_loss', patience=5, restore_best_weights=True)]  # Early stopping callback\n",
    ")"
   ]
  },
  {
   "cell_type": "code",
   "execution_count": 236,
   "metadata": {},
   "outputs": [
    {
     "data": {
      "image/png": "[encoded data removed]",
      "text/plain": [
       "<Figure size 432x288 with 1 Axes>"
      ]
     },
     "metadata": {
      "needs_background": "light"
     },
     "output_type": "display_data"
    }
   ],
   "source": [
    "# Plotting the loss\n",
    "plt.plot(history.history['loss'], label='Training loss')\n",
    "plt.plot(history.history['val_loss'], label='Validation loss')\n",
    "plt.xlabel('Epoch')\n",
    "plt.ylabel('Loss')\n",
    "plt.legend()\n",
    "plt.show()"
   ]
  },
  {
   "cell_type": "code",
   "execution_count": 237,
   "metadata": {},
   "outputs": [
    {
     "data": {
      "image/png": "[encoded data removed]",
      "text/plain": [
       "<Figure size 432x288 with 1 Axes>"
      ]
     },
     "metadata": {
      "needs_background": "light"
     },
     "output_type": "display_data"
    }
   ],
   "source": [
    "# Plotting the Accuracy\n",
    "plt.plot(history.history['accuracy'], label='Training accuracy')\n",
    "plt.plot(history.history['val_accuracy'], label='Validation accuracy')\n",
    "plt.xlabel('Epoch')\n",
    "plt.ylabel('Accuracy')\n",
    "plt.legend()\n",
    "plt.show()"
   ]
  },
  {
   "cell_type": "markdown",
   "metadata": {},
   "source": [
    "Overfitting is not evident from the plots because both the Training and validation accuracy increase "
   ]
  },
  {
   "cell_type": "code",
   "execution_count": 238,
   "metadata": {},
   "outputs": [
    {
     "name": "stdout",
     "output_type": "stream",
     "text": [
      "13/13 [==============================] - 0s 3ms/step - loss: 0.4436 - accuracy: 0.8100\n"
     ]
    },
    {
     "data": {
      "text/plain": [
       "{'loss': 0.4436015784740448, 'accuracy': 0.8100000023841858}"
      ]
     },
     "execution_count": 238,
     "metadata": {},
     "output_type": "execute_result"
    }
   ],
   "source": [
    "# Performance on test dataset\n",
    "model.evaluate(padded_test, test['in_genre'], return_dict = True)"
   ]
  },
  {
   "cell_type": "markdown",
   "metadata": {},
   "source": [
    "## Analysis\n",
    "\n",
    "The test accuracy is slightly better then task 4 at 0.81 compared to 0.7950"
   ]
  },
  {
   "cell_type": "markdown",
   "metadata": {},
   "source": []
  }
 ],
 "metadata": {
  "kernelspec": {
   "display_name": "Python 3 (ipykernel)",
   "language": "python",
   "name": "python3"
  },
  "language_info": {
   "codemirror_mode": {
    "name": "ipython",
    "version": 3
   },
   "file_extension": ".py",
   "mimetype": "text/x-python",
   "name": "python",
   "nbconvert_exporter": "python",
   "pygments_lexer": "ipython3",
   "version": "3.9.12"
  }
 },
 "nbformat": 4,
 "nbformat_minor": 2
}
